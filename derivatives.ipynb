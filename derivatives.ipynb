{
 "cells": [
  {
   "cell_type": "code",
   "execution_count": 2,
   "metadata": {},
   "outputs": [],
   "source": [
    "from sympy import *\n",
    "import numpy as np\n",
    "import IPython.display as disp"
   ]
  },
  {
   "cell_type": "markdown",
   "metadata": {},
   "source": [
    "# Slack"
   ]
  },
  {
   "cell_type": "code",
   "execution_count": 17,
   "metadata": {},
   "outputs": [
    {
     "name": "stdout",
     "output_type": "stream",
     "text": [
      "Lagrange:\n"
     ]
    },
    {
     "data": {
      "text/latex": [
       "$\\displaystyle Isi \\lambda_{i} + Isr \\lambda_{r} + \\lambda_{si} \\left(Vi - Viset\\right) + \\lambda_{sr} \\left(Vr - Vrset\\right)$"
      ],
      "text/plain": [
       "Isi*lambda_i + Isr*lambda_r + lambda_si*(Vi - Viset) + lambda_sr*(Vr - Vrset)"
      ]
     },
     "metadata": {},
     "output_type": "display_data"
    },
    {
     "name": "stdout",
     "output_type": "stream",
     "text": [
      "Derivatives:\n",
      "dVr:\n"
     ]
    },
    {
     "data": {
      "text/latex": [
       "$\\displaystyle \\lambda_{sr}$"
      ],
      "text/plain": [
       "lambda_sr"
      ]
     },
     "metadata": {},
     "output_type": "display_data"
    },
    {
     "name": "stdout",
     "output_type": "stream",
     "text": [
      "dVi:\n"
     ]
    },
    {
     "data": {
      "text/latex": [
       "$\\displaystyle \\lambda_{si}$"
      ],
      "text/plain": [
       "lambda_si"
      ]
     },
     "metadata": {},
     "output_type": "display_data"
    },
    {
     "name": "stdout",
     "output_type": "stream",
     "text": [
      "dIsr:\n"
     ]
    },
    {
     "data": {
      "text/latex": [
       "$\\displaystyle \\lambda_{r}$"
      ],
      "text/plain": [
       "lambda_r"
      ]
     },
     "metadata": {},
     "output_type": "display_data"
    },
    {
     "name": "stdout",
     "output_type": "stream",
     "text": [
      "dIsi:\n"
     ]
    },
    {
     "data": {
      "text/latex": [
       "$\\displaystyle \\lambda_{i}$"
      ],
      "text/plain": [
       "lambda_i"
      ]
     },
     "metadata": {},
     "output_type": "display_data"
    }
   ],
   "source": [
    "[Vrset, Viset] = symbols(\"Vrset Viset\")\n",
    "\n",
    "variables = [Vr, Vi, Isr, Isi] = symbols(\"Vr Vi Isr Isi\")\n",
    "\n",
    "lambdas = [Lr, Li, Lsr, Lsi] = symbols(\"lambda_r lambda_i lambda_sr lambda_si\")\n",
    "\n",
    "eqns = [\n",
    "    Isr,\n",
    "    Isi,\n",
    "    Vr - Vrset,\n",
    "    Vi - Viset,\n",
    "]\n",
    "\n",
    "lagrange = np.dot(lambdas, eqns)\n",
    "\n",
    "print(\"Lagrange:\")\n",
    "disp.display(lagrange)\n",
    "\n",
    "print(\"Derivatives:\")\n",
    "\n",
    "for variable in variables:\n",
    "    print(f'd{variable}:')\n",
    "    disp.display(diff(lagrange, variable))\n"
   ]
  },
  {
   "cell_type": "markdown",
   "metadata": {},
   "source": [
    "# Infeasibility"
   ]
  },
  {
   "cell_type": "code",
   "execution_count": 29,
   "metadata": {},
   "outputs": [
    {
     "name": "stdout",
     "output_type": "stream",
     "text": [
      "Slack & Infeasibility:\n"
     ]
    },
    {
     "data": {
      "text/latex": [
       "$\\displaystyle Iii^{2} + Iii \\lambda_{ii} + Iir^{2} + Iir \\lambda_{ir}$"
      ],
      "text/plain": [
       "Iii**2 + Iii*lambda_ii + Iir**2 + Iir*lambda_ir"
      ]
     },
     "metadata": {},
     "output_type": "display_data"
    },
    {
     "data": {
      "text/latex": [
       "$\\displaystyle 2 Iir + \\lambda_{ir}$"
      ],
      "text/plain": [
       "2*Iir + lambda_ir"
      ]
     },
     "metadata": {},
     "output_type": "display_data"
    },
    {
     "data": {
      "text/latex": [
       "$\\displaystyle 2 Iii + \\lambda_{ii}$"
      ],
      "text/plain": [
       "2*Iii + lambda_ii"
      ]
     },
     "metadata": {},
     "output_type": "display_data"
    },
    {
     "data": {
      "text/latex": [
       "$\\displaystyle Iir$"
      ],
      "text/plain": [
       "Iir"
      ]
     },
     "metadata": {},
     "output_type": "display_data"
    },
    {
     "data": {
      "text/latex": [
       "$\\displaystyle Iii$"
      ],
      "text/plain": [
       "Iii"
      ]
     },
     "metadata": {},
     "output_type": "display_data"
    }
   ],
   "source": [
    "variables = [Iir, Iii] = symbols(\"Iir Iii\")\n",
    "\n",
    "lambdas = [Lir, Lii] = symbols(\"lambda_ir lambda_ii\")\n",
    "\n",
    "lagrange = Iir ** 2 + Iii ** 2 + Iir * Lir + Iii * Lii\n",
    "\n",
    "print(\"Slack & Infeasibility:\")\n",
    "disp.display(lagrange)\n",
    "\n",
    "disp.display(diff(lagrange, Iir))\n",
    "disp.display(diff(lagrange, Iii))\n",
    "\n",
    "disp.display(diff(lagrange, Lir))\n",
    "disp.display(diff(lagrange, Lii))"
   ]
  },
  {
   "cell_type": "markdown",
   "metadata": {},
   "source": [
    "# Transformer"
   ]
  },
  {
   "cell_type": "code",
   "execution_count": 30,
   "metadata": {},
   "outputs": [
    {
     "name": "stdout",
     "output_type": "stream",
     "text": [
      "Transformer:\n",
      "V_br:\n"
     ]
    },
    {
     "data": {
      "text/latex": [
       "$\\displaystyle \\lambda_{ir}$"
      ],
      "text/plain": [
       "lambda_ir"
      ]
     },
     "metadata": {},
     "output_type": "display_data"
    },
    {
     "name": "stdout",
     "output_type": "stream",
     "text": [
      "V_bi:\n"
     ]
    },
    {
     "data": {
      "text/latex": [
       "$\\displaystyle \\lambda_{ii}$"
      ],
      "text/plain": [
       "lambda_ii"
      ]
     },
     "metadata": {},
     "output_type": "display_data"
    },
    {
     "name": "stdout",
     "output_type": "stream",
     "text": [
      "I_r:\n"
     ]
    },
    {
     "data": {
      "text/latex": [
       "$\\displaystyle \\lambda_{br} + \\lambda_{vi} trsin - \\lambda_{vr} trcos$"
      ],
      "text/plain": [
       "lambda_br + lambda_vi*trsin - lambda_vr*trcos"
      ]
     },
     "metadata": {},
     "output_type": "display_data"
    },
    {
     "name": "stdout",
     "output_type": "stream",
     "text": [
      "I_i:\n"
     ]
    },
    {
     "data": {
      "text/latex": [
       "$\\displaystyle \\lambda_{bi} - \\lambda_{vi} trcos - \\lambda_{vr} trsin$"
      ],
      "text/plain": [
       "lambda_bi - lambda_vi*trcos - lambda_vr*trsin"
      ]
     },
     "metadata": {},
     "output_type": "display_data"
    },
    {
     "name": "stdout",
     "output_type": "stream",
     "text": [
      "V_r:\n"
     ]
    },
    {
     "data": {
      "text/latex": [
       "$\\displaystyle - \\lambda_{ii} trsin - \\lambda_{ir} trcos$"
      ],
      "text/plain": [
       "-lambda_ii*trsin - lambda_ir*trcos"
      ]
     },
     "metadata": {},
     "output_type": "display_data"
    },
    {
     "name": "stdout",
     "output_type": "stream",
     "text": [
      "V_i:\n"
     ]
    },
    {
     "data": {
      "text/latex": [
       "$\\displaystyle - \\lambda_{ii} trcos + \\lambda_{ir} trsin$"
      ],
      "text/plain": [
       "-lambda_ii*trcos + lambda_ir*trsin"
      ]
     },
     "metadata": {},
     "output_type": "display_data"
    }
   ],
   "source": [
    "\n",
    "trcos, trsin = symbols('trcos trsin')\n",
    "variables = [Vbr, Vbi, Ir, Ii, Vr, Vi] = symbols('V_br V_bi I_r I_i V_r V_i')\n",
    "lambdas = [Lbr, Lbi, Lir, Lii, Lvr, Lvi] = symbols('lambda_br lambda_bi lambda_ir lambda_ii lambda_vr lambda_vi')\n",
    "\n",
    "eqns = [\n",
    "    Ir,\n",
    "    Ii,\n",
    "    Vbr - trcos * Vr + trsin * Vi,\n",
    "    Vbi - trcos * Vi - trsin * Vr,\n",
    "    -trcos * Ir - trsin * Ii,\n",
    "    -trcos * Ii + trsin * Ir\n",
    "]\n",
    "\n",
    "lagrange = np.dot(lambdas, eqns)\n",
    "\n",
    "print(\"Transformer:\")\n",
    "for variable in variables:\n",
    "    print(f'{variable}:')\n",
    "    disp.display(diff(lagrange, variable))\n"
   ]
  },
  {
   "cell_type": "markdown",
   "metadata": {},
   "source": [
    "# Load"
   ]
  },
  {
   "cell_type": "code",
   "execution_count": 31,
   "metadata": {},
   "outputs": [
    {
     "name": "stdout",
     "output_type": "stream",
     "text": [
      "Lagrange:\n"
     ]
    },
    {
     "data": {
      "text/latex": [
       "$\\displaystyle \\frac{\\lambda_{i} \\left(V_{i} self.P - V_{r} self.Q\\right)}{V_{i}^{2} + V_{r}^{2}} + \\frac{\\lambda_{r} \\left(V_{i} self.Q + V_{r} self.P\\right)}{V_{i}^{2} + V_{r}^{2}}$"
      ],
      "text/plain": [
       "lambda_i*(V_i*self.P - V_r*self.Q)/(V_i**2 + V_r**2) + lambda_r*(V_i*self.Q + V_r*self.P)/(V_i**2 + V_r**2)"
      ]
     },
     "metadata": {},
     "output_type": "display_data"
    }
   ],
   "source": [
    "\n",
    "P, Q = symbols('self.P self.Q')\n",
    "variables = [Vr, Vi] = symbols('V_r V_i')\n",
    "lambdas = [Lr, Li] = symbols('lambda_r lambda_i')\n",
    "\n",
    "Ir = (P * Vr + Q * Vi) / (Vr ** 2 + Vi ** 2)\n",
    "Ii = (P * Vi - Q * Vr) / (Vr ** 2 + Vi ** 2)\n",
    "\n",
    "lagrange = Lr * Ir + Li * Ii\n",
    "\n",
    "print(\"Lagrange:\")\n",
    "disp.display(lagrange)"
   ]
  },
  {
   "cell_type": "markdown",
   "metadata": {},
   "source": [
    "### Real Portion"
   ]
  },
  {
   "cell_type": "code",
   "execution_count": 32,
   "metadata": {},
   "outputs": [
    {
     "name": "stdout",
     "output_type": "stream",
     "text": [
      "dVr:\n",
      "\n"
     ]
    },
    {
     "data": {
      "text/latex": [
       "$\\displaystyle - \\frac{2 V_{r} \\lambda_{i} \\left(V_{i} self.P - V_{r} self.Q\\right)}{\\left(V_{i}^{2} + V_{r}^{2}\\right)^{2}} - \\frac{2 V_{r} \\lambda_{r} \\left(V_{i} self.Q + V_{r} self.P\\right)}{\\left(V_{i}^{2} + V_{r}^{2}\\right)^{2}} - \\frac{\\lambda_{i} self.Q}{V_{i}^{2} + V_{r}^{2}} + \\frac{\\lambda_{r} self.P}{V_{i}^{2} + V_{r}^{2}}$"
      ],
      "text/plain": [
       "-2*V_r*lambda_i*(V_i*self.P - V_r*self.Q)/(V_i**2 + V_r**2)**2 - 2*V_r*lambda_r*(V_i*self.Q + V_r*self.P)/(V_i**2 + V_r**2)**2 - lambda_i*self.Q/(V_i**2 + V_r**2) + lambda_r*self.P/(V_i**2 + V_r**2)"
      ]
     },
     "metadata": {},
     "output_type": "display_data"
    },
    {
     "name": "stdout",
     "output_type": "stream",
     "text": [
      "-2*V_r*lambda_i*(V_i*self.P - V_r*self.Q)/(V_i**2 + V_r**2)**2 - 2*V_r*lambda_r*(V_i*self.Q + V_r*self.P)/(V_i**2 + V_r**2)**2 - lambda_i*self.Q/(V_i**2 + V_r**2) + lambda_r*self.P/(V_i**2 + V_r**2)\n",
      "\n",
      "\n",
      "dVr_dVr:\n",
      "\n"
     ]
    },
    {
     "data": {
      "text/latex": [
       "$\\displaystyle \\frac{8 V_{r}^{2} \\lambda_{i} \\left(V_{i} self.P - V_{r} self.Q\\right)}{\\left(V_{i}^{2} + V_{r}^{2}\\right)^{3}} + \\frac{8 V_{r}^{2} \\lambda_{r} \\left(V_{i} self.Q + V_{r} self.P\\right)}{\\left(V_{i}^{2} + V_{r}^{2}\\right)^{3}} + \\frac{4 V_{r} \\lambda_{i} self.Q}{\\left(V_{i}^{2} + V_{r}^{2}\\right)^{2}} - \\frac{4 V_{r} \\lambda_{r} self.P}{\\left(V_{i}^{2} + V_{r}^{2}\\right)^{2}} - \\frac{2 \\lambda_{i} \\left(V_{i} self.P - V_{r} self.Q\\right)}{\\left(V_{i}^{2} + V_{r}^{2}\\right)^{2}} - \\frac{2 \\lambda_{r} \\left(V_{i} self.Q + V_{r} self.P\\right)}{\\left(V_{i}^{2} + V_{r}^{2}\\right)^{2}}$"
      ],
      "text/plain": [
       "8*V_r**2*lambda_i*(V_i*self.P - V_r*self.Q)/(V_i**2 + V_r**2)**3 + 8*V_r**2*lambda_r*(V_i*self.Q + V_r*self.P)/(V_i**2 + V_r**2)**3 + 4*V_r*lambda_i*self.Q/(V_i**2 + V_r**2)**2 - 4*V_r*lambda_r*self.P/(V_i**2 + V_r**2)**2 - 2*lambda_i*(V_i*self.P - V_r*self.Q)/(V_i**2 + V_r**2)**2 - 2*lambda_r*(V_i*self.Q + V_r*self.P)/(V_i**2 + V_r**2)**2"
      ]
     },
     "metadata": {},
     "output_type": "display_data"
    },
    {
     "name": "stdout",
     "output_type": "stream",
     "text": [
      "8*V_r**2*lambda_i*(V_i*self.P - V_r*self.Q)/(V_i**2 + V_r**2)**3 + 8*V_r**2*lambda_r*(V_i*self.Q + V_r*self.P)/(V_i**2 + V_r**2)**3 + 4*V_r*lambda_i*self.Q/(V_i**2 + V_r**2)**2 - 4*V_r*lambda_r*self.P/(V_i**2 + V_r**2)**2 - 2*lambda_i*(V_i*self.P - V_r*self.Q)/(V_i**2 + V_r**2)**2 - 2*lambda_r*(V_i*self.Q + V_r*self.P)/(V_i**2 + V_r**2)**2\n",
      "\n",
      "\n",
      "dVr_dVi:\n",
      "\n"
     ]
    },
    {
     "data": {
      "text/latex": [
       "$\\displaystyle \\frac{8 V_{i} V_{r} \\lambda_{i} \\left(V_{i} self.P - V_{r} self.Q\\right)}{\\left(V_{i}^{2} + V_{r}^{2}\\right)^{3}} + \\frac{8 V_{i} V_{r} \\lambda_{r} \\left(V_{i} self.Q + V_{r} self.P\\right)}{\\left(V_{i}^{2} + V_{r}^{2}\\right)^{3}} + \\frac{2 V_{i} \\lambda_{i} self.Q}{\\left(V_{i}^{2} + V_{r}^{2}\\right)^{2}} - \\frac{2 V_{i} \\lambda_{r} self.P}{\\left(V_{i}^{2} + V_{r}^{2}\\right)^{2}} - \\frac{2 V_{r} \\lambda_{i} self.P}{\\left(V_{i}^{2} + V_{r}^{2}\\right)^{2}} - \\frac{2 V_{r} \\lambda_{r} self.Q}{\\left(V_{i}^{2} + V_{r}^{2}\\right)^{2}}$"
      ],
      "text/plain": [
       "8*V_i*V_r*lambda_i*(V_i*self.P - V_r*self.Q)/(V_i**2 + V_r**2)**3 + 8*V_i*V_r*lambda_r*(V_i*self.Q + V_r*self.P)/(V_i**2 + V_r**2)**3 + 2*V_i*lambda_i*self.Q/(V_i**2 + V_r**2)**2 - 2*V_i*lambda_r*self.P/(V_i**2 + V_r**2)**2 - 2*V_r*lambda_i*self.P/(V_i**2 + V_r**2)**2 - 2*V_r*lambda_r*self.Q/(V_i**2 + V_r**2)**2"
      ]
     },
     "metadata": {},
     "output_type": "display_data"
    },
    {
     "name": "stdout",
     "output_type": "stream",
     "text": [
      "8*V_i*V_r*lambda_i*(V_i*self.P - V_r*self.Q)/(V_i**2 + V_r**2)**3 + 8*V_i*V_r*lambda_r*(V_i*self.Q + V_r*self.P)/(V_i**2 + V_r**2)**3 + 2*V_i*lambda_i*self.Q/(V_i**2 + V_r**2)**2 - 2*V_i*lambda_r*self.P/(V_i**2 + V_r**2)**2 - 2*V_r*lambda_i*self.P/(V_i**2 + V_r**2)**2 - 2*V_r*lambda_r*self.Q/(V_i**2 + V_r**2)**2\n",
      "\n",
      "\n",
      "dVr_dLr:\n",
      "\n"
     ]
    },
    {
     "data": {
      "text/latex": [
       "$\\displaystyle - \\frac{2 V_{r} \\left(V_{i} self.Q + V_{r} self.P\\right)}{\\left(V_{i}^{2} + V_{r}^{2}\\right)^{2}} + \\frac{self.P}{V_{i}^{2} + V_{r}^{2}}$"
      ],
      "text/plain": [
       "-2*V_r*(V_i*self.Q + V_r*self.P)/(V_i**2 + V_r**2)**2 + self.P/(V_i**2 + V_r**2)"
      ]
     },
     "metadata": {},
     "output_type": "display_data"
    },
    {
     "name": "stdout",
     "output_type": "stream",
     "text": [
      "-2*V_r*(V_i*self.Q + V_r*self.P)/(V_i**2 + V_r**2)**2 + self.P/(V_i**2 + V_r**2)\n",
      "\n",
      "\n",
      "dVr_dLi:\n",
      "\n"
     ]
    },
    {
     "data": {
      "text/latex": [
       "$\\displaystyle - \\frac{2 V_{r} \\left(V_{i} self.P - V_{r} self.Q\\right)}{\\left(V_{i}^{2} + V_{r}^{2}\\right)^{2}} - \\frac{self.Q}{V_{i}^{2} + V_{r}^{2}}$"
      ],
      "text/plain": [
       "-2*V_r*(V_i*self.P - V_r*self.Q)/(V_i**2 + V_r**2)**2 - self.Q/(V_i**2 + V_r**2)"
      ]
     },
     "metadata": {},
     "output_type": "display_data"
    },
    {
     "name": "stdout",
     "output_type": "stream",
     "text": [
      "-2*V_r*(V_i*self.P - V_r*self.Q)/(V_i**2 + V_r**2)**2 - self.Q/(V_i**2 + V_r**2)\n"
     ]
    }
   ],
   "source": [
    "dVr = diff(lagrange, Vr)\n",
    "print(\"dVr:\\n\")\n",
    "disp.display(dVr)\n",
    "print(dVr)\n",
    "print(\"\\n\")\n",
    "\n",
    "dVr_dVr = diff(dVr, Vr)\n",
    "dVr_dVi = diff(dVr, Vi)\n",
    "dVr_dLr = diff(dVr, Lr)\n",
    "dVr_dLi = diff(dVr, Li)\n",
    "\n",
    "print(\"dVr_dVr:\\n\")\n",
    "disp.display(dVr_dVr)\n",
    "print(dVr_dVr)\n",
    "print(\"\\n\")\n",
    "print(\"dVr_dVi:\\n\")\n",
    "disp.display(dVr_dVi)\n",
    "print(dVr_dVi)\n",
    "print(\"\\n\")\n",
    "print(\"dVr_dLr:\\n\")\n",
    "disp.display(dVr_dLr)\n",
    "print(dVr_dLr)\n",
    "print(\"\\n\")\n",
    "print(\"dVr_dLi:\\n\")\n",
    "disp.display(dVr_dLi)\n",
    "print(dVr_dLi)"
   ]
  },
  {
   "cell_type": "markdown",
   "metadata": {},
   "source": [
    "### Imaginary Portion"
   ]
  },
  {
   "cell_type": "code",
   "execution_count": 33,
   "metadata": {},
   "outputs": [
    {
     "name": "stdout",
     "output_type": "stream",
     "text": [
      "dVi:\n",
      "\n"
     ]
    },
    {
     "data": {
      "text/latex": [
       "$\\displaystyle - \\frac{2 V_{i} \\lambda_{i} \\left(V_{i} self.P - V_{r} self.Q\\right)}{\\left(V_{i}^{2} + V_{r}^{2}\\right)^{2}} - \\frac{2 V_{i} \\lambda_{r} \\left(V_{i} self.Q + V_{r} self.P\\right)}{\\left(V_{i}^{2} + V_{r}^{2}\\right)^{2}} + \\frac{\\lambda_{i} self.P}{V_{i}^{2} + V_{r}^{2}} + \\frac{\\lambda_{r} self.Q}{V_{i}^{2} + V_{r}^{2}}$"
      ],
      "text/plain": [
       "-2*V_i*lambda_i*(V_i*self.P - V_r*self.Q)/(V_i**2 + V_r**2)**2 - 2*V_i*lambda_r*(V_i*self.Q + V_r*self.P)/(V_i**2 + V_r**2)**2 + lambda_i*self.P/(V_i**2 + V_r**2) + lambda_r*self.Q/(V_i**2 + V_r**2)"
      ]
     },
     "metadata": {},
     "output_type": "display_data"
    },
    {
     "name": "stdout",
     "output_type": "stream",
     "text": [
      "-2*V_i*lambda_i*(V_i*self.P - V_r*self.Q)/(V_i**2 + V_r**2)**2 - 2*V_i*lambda_r*(V_i*self.Q + V_r*self.P)/(V_i**2 + V_r**2)**2 + lambda_i*self.P/(V_i**2 + V_r**2) + lambda_r*self.Q/(V_i**2 + V_r**2)\n",
      "\n",
      "\n",
      "dVi_dVr:\n",
      "\n"
     ]
    },
    {
     "data": {
      "text/latex": [
       "$\\displaystyle \\frac{8 V_{i} V_{r} \\lambda_{i} \\left(V_{i} self.P - V_{r} self.Q\\right)}{\\left(V_{i}^{2} + V_{r}^{2}\\right)^{3}} + \\frac{8 V_{i} V_{r} \\lambda_{r} \\left(V_{i} self.Q + V_{r} self.P\\right)}{\\left(V_{i}^{2} + V_{r}^{2}\\right)^{3}} + \\frac{2 V_{i} \\lambda_{i} self.Q}{\\left(V_{i}^{2} + V_{r}^{2}\\right)^{2}} - \\frac{2 V_{i} \\lambda_{r} self.P}{\\left(V_{i}^{2} + V_{r}^{2}\\right)^{2}} - \\frac{2 V_{r} \\lambda_{i} self.P}{\\left(V_{i}^{2} + V_{r}^{2}\\right)^{2}} - \\frac{2 V_{r} \\lambda_{r} self.Q}{\\left(V_{i}^{2} + V_{r}^{2}\\right)^{2}}$"
      ],
      "text/plain": [
       "8*V_i*V_r*lambda_i*(V_i*self.P - V_r*self.Q)/(V_i**2 + V_r**2)**3 + 8*V_i*V_r*lambda_r*(V_i*self.Q + V_r*self.P)/(V_i**2 + V_r**2)**3 + 2*V_i*lambda_i*self.Q/(V_i**2 + V_r**2)**2 - 2*V_i*lambda_r*self.P/(V_i**2 + V_r**2)**2 - 2*V_r*lambda_i*self.P/(V_i**2 + V_r**2)**2 - 2*V_r*lambda_r*self.Q/(V_i**2 + V_r**2)**2"
      ]
     },
     "metadata": {},
     "output_type": "display_data"
    },
    {
     "name": "stdout",
     "output_type": "stream",
     "text": [
      "8*V_i*V_r*lambda_i*(V_i*self.P - V_r*self.Q)/(V_i**2 + V_r**2)**3 + 8*V_i*V_r*lambda_r*(V_i*self.Q + V_r*self.P)/(V_i**2 + V_r**2)**3 + 2*V_i*lambda_i*self.Q/(V_i**2 + V_r**2)**2 - 2*V_i*lambda_r*self.P/(V_i**2 + V_r**2)**2 - 2*V_r*lambda_i*self.P/(V_i**2 + V_r**2)**2 - 2*V_r*lambda_r*self.Q/(V_i**2 + V_r**2)**2\n",
      "\n",
      "\n",
      "dVi_dVi:\n",
      "\n"
     ]
    },
    {
     "data": {
      "text/latex": [
       "$\\displaystyle \\frac{8 V_{i}^{2} \\lambda_{i} \\left(V_{i} self.P - V_{r} self.Q\\right)}{\\left(V_{i}^{2} + V_{r}^{2}\\right)^{3}} + \\frac{8 V_{i}^{2} \\lambda_{r} \\left(V_{i} self.Q + V_{r} self.P\\right)}{\\left(V_{i}^{2} + V_{r}^{2}\\right)^{3}} - \\frac{4 V_{i} \\lambda_{i} self.P}{\\left(V_{i}^{2} + V_{r}^{2}\\right)^{2}} - \\frac{4 V_{i} \\lambda_{r} self.Q}{\\left(V_{i}^{2} + V_{r}^{2}\\right)^{2}} - \\frac{2 \\lambda_{i} \\left(V_{i} self.P - V_{r} self.Q\\right)}{\\left(V_{i}^{2} + V_{r}^{2}\\right)^{2}} - \\frac{2 \\lambda_{r} \\left(V_{i} self.Q + V_{r} self.P\\right)}{\\left(V_{i}^{2} + V_{r}^{2}\\right)^{2}}$"
      ],
      "text/plain": [
       "8*V_i**2*lambda_i*(V_i*self.P - V_r*self.Q)/(V_i**2 + V_r**2)**3 + 8*V_i**2*lambda_r*(V_i*self.Q + V_r*self.P)/(V_i**2 + V_r**2)**3 - 4*V_i*lambda_i*self.P/(V_i**2 + V_r**2)**2 - 4*V_i*lambda_r*self.Q/(V_i**2 + V_r**2)**2 - 2*lambda_i*(V_i*self.P - V_r*self.Q)/(V_i**2 + V_r**2)**2 - 2*lambda_r*(V_i*self.Q + V_r*self.P)/(V_i**2 + V_r**2)**2"
      ]
     },
     "metadata": {},
     "output_type": "display_data"
    },
    {
     "name": "stdout",
     "output_type": "stream",
     "text": [
      "8*V_i**2*lambda_i*(V_i*self.P - V_r*self.Q)/(V_i**2 + V_r**2)**3 + 8*V_i**2*lambda_r*(V_i*self.Q + V_r*self.P)/(V_i**2 + V_r**2)**3 - 4*V_i*lambda_i*self.P/(V_i**2 + V_r**2)**2 - 4*V_i*lambda_r*self.Q/(V_i**2 + V_r**2)**2 - 2*lambda_i*(V_i*self.P - V_r*self.Q)/(V_i**2 + V_r**2)**2 - 2*lambda_r*(V_i*self.Q + V_r*self.P)/(V_i**2 + V_r**2)**2\n",
      "\n",
      "\n",
      "dVi_dLr:\n",
      "\n"
     ]
    },
    {
     "data": {
      "text/latex": [
       "$\\displaystyle - \\frac{2 V_{i} \\left(V_{i} self.Q + V_{r} self.P\\right)}{\\left(V_{i}^{2} + V_{r}^{2}\\right)^{2}} + \\frac{self.Q}{V_{i}^{2} + V_{r}^{2}}$"
      ],
      "text/plain": [
       "-2*V_i*(V_i*self.Q + V_r*self.P)/(V_i**2 + V_r**2)**2 + self.Q/(V_i**2 + V_r**2)"
      ]
     },
     "metadata": {},
     "output_type": "display_data"
    },
    {
     "name": "stdout",
     "output_type": "stream",
     "text": [
      "-2*V_i*(V_i*self.Q + V_r*self.P)/(V_i**2 + V_r**2)**2 + self.Q/(V_i**2 + V_r**2)\n",
      "\n",
      "\n",
      "dVi_dLi:\n",
      "\n"
     ]
    },
    {
     "data": {
      "text/latex": [
       "$\\displaystyle - \\frac{2 V_{i} \\left(V_{i} self.P - V_{r} self.Q\\right)}{\\left(V_{i}^{2} + V_{r}^{2}\\right)^{2}} + \\frac{self.P}{V_{i}^{2} + V_{r}^{2}}$"
      ],
      "text/plain": [
       "-2*V_i*(V_i*self.P - V_r*self.Q)/(V_i**2 + V_r**2)**2 + self.P/(V_i**2 + V_r**2)"
      ]
     },
     "metadata": {},
     "output_type": "display_data"
    },
    {
     "name": "stdout",
     "output_type": "stream",
     "text": [
      "-2*V_i*(V_i*self.P - V_r*self.Q)/(V_i**2 + V_r**2)**2 + self.P/(V_i**2 + V_r**2)\n"
     ]
    }
   ],
   "source": [
    "dVi = diff(lagrange, Vi)\n",
    "print(\"dVi:\\n\")\n",
    "disp.display(dVi)\n",
    "print(dVi)\n",
    "print(\"\\n\")\n",
    "\n",
    "dVi_dVr = diff(dVi, Vr)\n",
    "dVi_dVi = diff(dVi, Vi)\n",
    "dVi_dLr = diff(dVi, Lr)\n",
    "dVi_dLi = diff(dVi, Li)\n",
    "\n",
    "print(\"dVi_dVr:\\n\")\n",
    "disp.display(dVi_dVr)\n",
    "print(dVi_dVr)\n",
    "print(\"\\n\")\n",
    "print(\"dVi_dVi:\\n\")\n",
    "disp.display(dVi_dVi)\n",
    "print(dVi_dVi)\n",
    "print(\"\\n\")\n",
    "print(\"dVi_dLr:\\n\")\n",
    "disp.display(dVi_dLr)\n",
    "print(dVi_dLr)\n",
    "print(\"\\n\")\n",
    "print(\"dVi_dLi:\\n\")\n",
    "disp.display(dVi_dLi)\n",
    "print(dVi_dLi)"
   ]
  },
  {
   "cell_type": "markdown",
   "metadata": {},
   "source": [
    "# Generator"
   ]
  },
  {
   "cell_type": "code",
   "execution_count": 34,
   "metadata": {},
   "outputs": [
    {
     "name": "stdout",
     "output_type": "stream",
     "text": [
      "Lagrange:\n"
     ]
    },
    {
     "data": {
      "text/latex": [
       "$\\displaystyle \\lambda_{Q} \\left(- V_{i}^{2} - V_{r}^{2} + self.Vset^{2}\\right) + \\frac{\\lambda_{i} \\left(- Q V_{r} + V_{i} self.P\\right)}{V_{i}^{2} + V_{r}^{2}} + \\frac{\\lambda_{r} \\left(Q V_{i} + V_{r} self.P\\right)}{V_{i}^{2} + V_{r}^{2}}$"
      ],
      "text/plain": [
       "lambda_Q*(-V_i**2 - V_r**2 + self.Vset**2) + lambda_i*(-Q*V_r + V_i*self.P)/(V_i**2 + V_r**2) + lambda_r*(Q*V_i + V_r*self.P)/(V_i**2 + V_r**2)"
      ]
     },
     "metadata": {},
     "output_type": "display_data"
    }
   ],
   "source": [
    "P, Vset = symbols('self.P self.Vset')\n",
    "variables = [Vr, Vi, Q] = symbols('V_r V_i Q')\n",
    "lambdas = [Lr, Li, LQ] = symbols('lambda_r lambda_i lambda_Q')\n",
    "\n",
    "Ir = (P * Vr + Q * Vi) / (Vr ** 2 + Vi ** 2)\n",
    "Ii = (P * Vi - Q * Vr) / (Vr ** 2 + Vi ** 2)\n",
    "Q_k = Vset ** 2 - Vr ** 2 - Vi ** 2\n",
    "\n",
    "lagrange = Lr * Ir + Li * Ii + Q_k * LQ\n",
    "\n",
    "print(\"Lagrange:\")\n",
    "disp.display(lagrange)"
   ]
  },
  {
   "cell_type": "markdown",
   "metadata": {},
   "source": [
    "### Real Portion"
   ]
  },
  {
   "cell_type": "code",
   "execution_count": 35,
   "metadata": {},
   "outputs": [
    {
     "name": "stdout",
     "output_type": "stream",
     "text": [
      "dVr:\n",
      "\n"
     ]
    },
    {
     "data": {
      "text/latex": [
       "$\\displaystyle - \\frac{Q \\lambda_{i}}{V_{i}^{2} + V_{r}^{2}} - 2 V_{r} \\lambda_{Q} - \\frac{2 V_{r} \\lambda_{i} \\left(- Q V_{r} + V_{i} self.P\\right)}{\\left(V_{i}^{2} + V_{r}^{2}\\right)^{2}} - \\frac{2 V_{r} \\lambda_{r} \\left(Q V_{i} + V_{r} self.P\\right)}{\\left(V_{i}^{2} + V_{r}^{2}\\right)^{2}} + \\frac{\\lambda_{r} self.P}{V_{i}^{2} + V_{r}^{2}}$"
      ],
      "text/plain": [
       "-Q*lambda_i/(V_i**2 + V_r**2) - 2*V_r*lambda_Q - 2*V_r*lambda_i*(-Q*V_r + V_i*self.P)/(V_i**2 + V_r**2)**2 - 2*V_r*lambda_r*(Q*V_i + V_r*self.P)/(V_i**2 + V_r**2)**2 + lambda_r*self.P/(V_i**2 + V_r**2)"
      ]
     },
     "metadata": {},
     "output_type": "display_data"
    },
    {
     "name": "stdout",
     "output_type": "stream",
     "text": [
      "-Q*lambda_i/(V_i**2 + V_r**2) - 2*V_r*lambda_Q - 2*V_r*lambda_i*(-Q*V_r + V_i*self.P)/(V_i**2 + V_r**2)**2 - 2*V_r*lambda_r*(Q*V_i + V_r*self.P)/(V_i**2 + V_r**2)**2 + lambda_r*self.P/(V_i**2 + V_r**2)\n",
      "\n",
      "\n",
      "dVr_dVr:\n",
      "\n"
     ]
    },
    {
     "data": {
      "text/latex": [
       "$\\displaystyle \\frac{4 Q V_{r} \\lambda_{i}}{\\left(V_{i}^{2} + V_{r}^{2}\\right)^{2}} + \\frac{8 V_{r}^{2} \\lambda_{i} \\left(- Q V_{r} + V_{i} self.P\\right)}{\\left(V_{i}^{2} + V_{r}^{2}\\right)^{3}} + \\frac{8 V_{r}^{2} \\lambda_{r} \\left(Q V_{i} + V_{r} self.P\\right)}{\\left(V_{i}^{2} + V_{r}^{2}\\right)^{3}} - \\frac{4 V_{r} \\lambda_{r} self.P}{\\left(V_{i}^{2} + V_{r}^{2}\\right)^{2}} - 2 \\lambda_{Q} - \\frac{2 \\lambda_{i} \\left(- Q V_{r} + V_{i} self.P\\right)}{\\left(V_{i}^{2} + V_{r}^{2}\\right)^{2}} - \\frac{2 \\lambda_{r} \\left(Q V_{i} + V_{r} self.P\\right)}{\\left(V_{i}^{2} + V_{r}^{2}\\right)^{2}}$"
      ],
      "text/plain": [
       "4*Q*V_r*lambda_i/(V_i**2 + V_r**2)**2 + 8*V_r**2*lambda_i*(-Q*V_r + V_i*self.P)/(V_i**2 + V_r**2)**3 + 8*V_r**2*lambda_r*(Q*V_i + V_r*self.P)/(V_i**2 + V_r**2)**3 - 4*V_r*lambda_r*self.P/(V_i**2 + V_r**2)**2 - 2*lambda_Q - 2*lambda_i*(-Q*V_r + V_i*self.P)/(V_i**2 + V_r**2)**2 - 2*lambda_r*(Q*V_i + V_r*self.P)/(V_i**2 + V_r**2)**2"
      ]
     },
     "metadata": {},
     "output_type": "display_data"
    },
    {
     "name": "stdout",
     "output_type": "stream",
     "text": [
      "4*Q*V_r*lambda_i/(V_i**2 + V_r**2)**2 + 8*V_r**2*lambda_i*(-Q*V_r + V_i*self.P)/(V_i**2 + V_r**2)**3 + 8*V_r**2*lambda_r*(Q*V_i + V_r*self.P)/(V_i**2 + V_r**2)**3 - 4*V_r*lambda_r*self.P/(V_i**2 + V_r**2)**2 - 2*lambda_Q - 2*lambda_i*(-Q*V_r + V_i*self.P)/(V_i**2 + V_r**2)**2 - 2*lambda_r*(Q*V_i + V_r*self.P)/(V_i**2 + V_r**2)**2\n",
      "\n",
      "\n",
      "dVr_dVi:\n",
      "\n"
     ]
    },
    {
     "data": {
      "text/latex": [
       "$\\displaystyle \\frac{2 Q V_{i} \\lambda_{i}}{\\left(V_{i}^{2} + V_{r}^{2}\\right)^{2}} - \\frac{2 Q V_{r} \\lambda_{r}}{\\left(V_{i}^{2} + V_{r}^{2}\\right)^{2}} + \\frac{8 V_{i} V_{r} \\lambda_{i} \\left(- Q V_{r} + V_{i} self.P\\right)}{\\left(V_{i}^{2} + V_{r}^{2}\\right)^{3}} + \\frac{8 V_{i} V_{r} \\lambda_{r} \\left(Q V_{i} + V_{r} self.P\\right)}{\\left(V_{i}^{2} + V_{r}^{2}\\right)^{3}} - \\frac{2 V_{i} \\lambda_{r} self.P}{\\left(V_{i}^{2} + V_{r}^{2}\\right)^{2}} - \\frac{2 V_{r} \\lambda_{i} self.P}{\\left(V_{i}^{2} + V_{r}^{2}\\right)^{2}}$"
      ],
      "text/plain": [
       "2*Q*V_i*lambda_i/(V_i**2 + V_r**2)**2 - 2*Q*V_r*lambda_r/(V_i**2 + V_r**2)**2 + 8*V_i*V_r*lambda_i*(-Q*V_r + V_i*self.P)/(V_i**2 + V_r**2)**3 + 8*V_i*V_r*lambda_r*(Q*V_i + V_r*self.P)/(V_i**2 + V_r**2)**3 - 2*V_i*lambda_r*self.P/(V_i**2 + V_r**2)**2 - 2*V_r*lambda_i*self.P/(V_i**2 + V_r**2)**2"
      ]
     },
     "metadata": {},
     "output_type": "display_data"
    },
    {
     "name": "stdout",
     "output_type": "stream",
     "text": [
      "2*Q*V_i*lambda_i/(V_i**2 + V_r**2)**2 - 2*Q*V_r*lambda_r/(V_i**2 + V_r**2)**2 + 8*V_i*V_r*lambda_i*(-Q*V_r + V_i*self.P)/(V_i**2 + V_r**2)**3 + 8*V_i*V_r*lambda_r*(Q*V_i + V_r*self.P)/(V_i**2 + V_r**2)**3 - 2*V_i*lambda_r*self.P/(V_i**2 + V_r**2)**2 - 2*V_r*lambda_i*self.P/(V_i**2 + V_r**2)**2\n",
      "\n",
      "\n",
      "dVr_dQ:\n",
      "\n"
     ]
    },
    {
     "data": {
      "text/latex": [
       "$\\displaystyle - \\frac{2 V_{i} V_{r} \\lambda_{r}}{\\left(V_{i}^{2} + V_{r}^{2}\\right)^{2}} + \\frac{2 V_{r}^{2} \\lambda_{i}}{\\left(V_{i}^{2} + V_{r}^{2}\\right)^{2}} - \\frac{\\lambda_{i}}{V_{i}^{2} + V_{r}^{2}}$"
      ],
      "text/plain": [
       "-2*V_i*V_r*lambda_r/(V_i**2 + V_r**2)**2 + 2*V_r**2*lambda_i/(V_i**2 + V_r**2)**2 - lambda_i/(V_i**2 + V_r**2)"
      ]
     },
     "metadata": {},
     "output_type": "display_data"
    },
    {
     "name": "stdout",
     "output_type": "stream",
     "text": [
      "-2*V_i*V_r*lambda_r/(V_i**2 + V_r**2)**2 + 2*V_r**2*lambda_i/(V_i**2 + V_r**2)**2 - lambda_i/(V_i**2 + V_r**2)\n",
      "\n",
      "\n",
      "dVr_dLr:\n",
      "\n"
     ]
    },
    {
     "data": {
      "text/latex": [
       "$\\displaystyle - \\frac{2 V_{r} \\left(Q V_{i} + V_{r} self.P\\right)}{\\left(V_{i}^{2} + V_{r}^{2}\\right)^{2}} + \\frac{self.P}{V_{i}^{2} + V_{r}^{2}}$"
      ],
      "text/plain": [
       "-2*V_r*(Q*V_i + V_r*self.P)/(V_i**2 + V_r**2)**2 + self.P/(V_i**2 + V_r**2)"
      ]
     },
     "metadata": {},
     "output_type": "display_data"
    },
    {
     "name": "stdout",
     "output_type": "stream",
     "text": [
      "-2*V_r*(Q*V_i + V_r*self.P)/(V_i**2 + V_r**2)**2 + self.P/(V_i**2 + V_r**2)\n",
      "\n",
      "\n",
      "dVr_dLi:\n",
      "\n"
     ]
    },
    {
     "data": {
      "text/latex": [
       "$\\displaystyle - \\frac{Q}{V_{i}^{2} + V_{r}^{2}} - \\frac{2 V_{r} \\left(- Q V_{r} + V_{i} self.P\\right)}{\\left(V_{i}^{2} + V_{r}^{2}\\right)^{2}}$"
      ],
      "text/plain": [
       "-Q/(V_i**2 + V_r**2) - 2*V_r*(-Q*V_r + V_i*self.P)/(V_i**2 + V_r**2)**2"
      ]
     },
     "metadata": {},
     "output_type": "display_data"
    },
    {
     "name": "stdout",
     "output_type": "stream",
     "text": [
      "-Q/(V_i**2 + V_r**2) - 2*V_r*(-Q*V_r + V_i*self.P)/(V_i**2 + V_r**2)**2\n",
      "\n",
      "\n",
      "dVr_dLQ:\n",
      "\n"
     ]
    },
    {
     "data": {
      "text/latex": [
       "$\\displaystyle - 2 V_{r}$"
      ],
      "text/plain": [
       "-2*V_r"
      ]
     },
     "metadata": {},
     "output_type": "display_data"
    },
    {
     "name": "stdout",
     "output_type": "stream",
     "text": [
      "-2*V_r\n"
     ]
    }
   ],
   "source": [
    "dVr = diff(lagrange, Vr)\n",
    "print(\"dVr:\\n\")\n",
    "disp.display(dVr)\n",
    "print(dVr)\n",
    "print(\"\\n\")\n",
    "\n",
    "dVr_dVr = diff(dVr, Vr)\n",
    "dVr_dVi = diff(dVr, Vi)\n",
    "dVr_dQ = diff(dVr, Q)\n",
    "dVr_dLr = diff(dVr, Lr)\n",
    "dVr_dLi = diff(dVr, Li)\n",
    "dVr_dLQ = diff(dVr, LQ)\n",
    "\n",
    "print(\"dVr_dVr:\\n\")\n",
    "disp.display(dVr_dVr)\n",
    "print(dVr_dVr)\n",
    "print(\"\\n\")\n",
    "print(\"dVr_dVi:\\n\")\n",
    "disp.display(dVr_dVi)\n",
    "print(dVr_dVi)\n",
    "print(\"\\n\")\n",
    "print(\"dVr_dQ:\\n\")\n",
    "disp.display(dVr_dQ)\n",
    "print(dVr_dQ)\n",
    "print(\"\\n\")\n",
    "print(\"dVr_dLr:\\n\")\n",
    "disp.display(dVr_dLr)\n",
    "print(dVr_dLr)\n",
    "print(\"\\n\")\n",
    "print(\"dVr_dLi:\\n\")\n",
    "disp.display(dVr_dLi)\n",
    "print(dVr_dLi)\n",
    "print(\"\\n\")\n",
    "print(\"dVr_dLQ:\\n\")\n",
    "disp.display(dVr_dLQ)\n",
    "print(dVr_dLQ)"
   ]
  },
  {
   "cell_type": "markdown",
   "metadata": {},
   "source": [
    "### Imaginary Portion"
   ]
  },
  {
   "cell_type": "code",
   "execution_count": 36,
   "metadata": {},
   "outputs": [
    {
     "name": "stdout",
     "output_type": "stream",
     "text": [
      "dVi:\n",
      "\n"
     ]
    },
    {
     "data": {
      "text/latex": [
       "$\\displaystyle \\frac{Q \\lambda_{r}}{V_{i}^{2} + V_{r}^{2}} - 2 V_{i} \\lambda_{Q} - \\frac{2 V_{i} \\lambda_{i} \\left(- Q V_{r} + V_{i} self.P\\right)}{\\left(V_{i}^{2} + V_{r}^{2}\\right)^{2}} - \\frac{2 V_{i} \\lambda_{r} \\left(Q V_{i} + V_{r} self.P\\right)}{\\left(V_{i}^{2} + V_{r}^{2}\\right)^{2}} + \\frac{\\lambda_{i} self.P}{V_{i}^{2} + V_{r}^{2}}$"
      ],
      "text/plain": [
       "Q*lambda_r/(V_i**2 + V_r**2) - 2*V_i*lambda_Q - 2*V_i*lambda_i*(-Q*V_r + V_i*self.P)/(V_i**2 + V_r**2)**2 - 2*V_i*lambda_r*(Q*V_i + V_r*self.P)/(V_i**2 + V_r**2)**2 + lambda_i*self.P/(V_i**2 + V_r**2)"
      ]
     },
     "metadata": {},
     "output_type": "display_data"
    },
    {
     "name": "stdout",
     "output_type": "stream",
     "text": [
      "Q*lambda_r/(V_i**2 + V_r**2) - 2*V_i*lambda_Q - 2*V_i*lambda_i*(-Q*V_r + V_i*self.P)/(V_i**2 + V_r**2)**2 - 2*V_i*lambda_r*(Q*V_i + V_r*self.P)/(V_i**2 + V_r**2)**2 + lambda_i*self.P/(V_i**2 + V_r**2)\n",
      "\n",
      "\n",
      "dVi_dVr:\n",
      "\n"
     ]
    },
    {
     "data": {
      "text/latex": [
       "$\\displaystyle \\frac{2 Q V_{i} \\lambda_{i}}{\\left(V_{i}^{2} + V_{r}^{2}\\right)^{2}} - \\frac{2 Q V_{r} \\lambda_{r}}{\\left(V_{i}^{2} + V_{r}^{2}\\right)^{2}} + \\frac{8 V_{i} V_{r} \\lambda_{i} \\left(- Q V_{r} + V_{i} self.P\\right)}{\\left(V_{i}^{2} + V_{r}^{2}\\right)^{3}} + \\frac{8 V_{i} V_{r} \\lambda_{r} \\left(Q V_{i} + V_{r} self.P\\right)}{\\left(V_{i}^{2} + V_{r}^{2}\\right)^{3}} - \\frac{2 V_{i} \\lambda_{r} self.P}{\\left(V_{i}^{2} + V_{r}^{2}\\right)^{2}} - \\frac{2 V_{r} \\lambda_{i} self.P}{\\left(V_{i}^{2} + V_{r}^{2}\\right)^{2}}$"
      ],
      "text/plain": [
       "2*Q*V_i*lambda_i/(V_i**2 + V_r**2)**2 - 2*Q*V_r*lambda_r/(V_i**2 + V_r**2)**2 + 8*V_i*V_r*lambda_i*(-Q*V_r + V_i*self.P)/(V_i**2 + V_r**2)**3 + 8*V_i*V_r*lambda_r*(Q*V_i + V_r*self.P)/(V_i**2 + V_r**2)**3 - 2*V_i*lambda_r*self.P/(V_i**2 + V_r**2)**2 - 2*V_r*lambda_i*self.P/(V_i**2 + V_r**2)**2"
      ]
     },
     "metadata": {},
     "output_type": "display_data"
    },
    {
     "name": "stdout",
     "output_type": "stream",
     "text": [
      "2*Q*V_i*lambda_i/(V_i**2 + V_r**2)**2 - 2*Q*V_r*lambda_r/(V_i**2 + V_r**2)**2 + 8*V_i*V_r*lambda_i*(-Q*V_r + V_i*self.P)/(V_i**2 + V_r**2)**3 + 8*V_i*V_r*lambda_r*(Q*V_i + V_r*self.P)/(V_i**2 + V_r**2)**3 - 2*V_i*lambda_r*self.P/(V_i**2 + V_r**2)**2 - 2*V_r*lambda_i*self.P/(V_i**2 + V_r**2)**2\n",
      "\n",
      "\n",
      "dVi_dVi:\n",
      "\n"
     ]
    },
    {
     "data": {
      "text/latex": [
       "$\\displaystyle - \\frac{4 Q V_{i} \\lambda_{r}}{\\left(V_{i}^{2} + V_{r}^{2}\\right)^{2}} + \\frac{8 V_{i}^{2} \\lambda_{i} \\left(- Q V_{r} + V_{i} self.P\\right)}{\\left(V_{i}^{2} + V_{r}^{2}\\right)^{3}} + \\frac{8 V_{i}^{2} \\lambda_{r} \\left(Q V_{i} + V_{r} self.P\\right)}{\\left(V_{i}^{2} + V_{r}^{2}\\right)^{3}} - \\frac{4 V_{i} \\lambda_{i} self.P}{\\left(V_{i}^{2} + V_{r}^{2}\\right)^{2}} - 2 \\lambda_{Q} - \\frac{2 \\lambda_{i} \\left(- Q V_{r} + V_{i} self.P\\right)}{\\left(V_{i}^{2} + V_{r}^{2}\\right)^{2}} - \\frac{2 \\lambda_{r} \\left(Q V_{i} + V_{r} self.P\\right)}{\\left(V_{i}^{2} + V_{r}^{2}\\right)^{2}}$"
      ],
      "text/plain": [
       "-4*Q*V_i*lambda_r/(V_i**2 + V_r**2)**2 + 8*V_i**2*lambda_i*(-Q*V_r + V_i*self.P)/(V_i**2 + V_r**2)**3 + 8*V_i**2*lambda_r*(Q*V_i + V_r*self.P)/(V_i**2 + V_r**2)**3 - 4*V_i*lambda_i*self.P/(V_i**2 + V_r**2)**2 - 2*lambda_Q - 2*lambda_i*(-Q*V_r + V_i*self.P)/(V_i**2 + V_r**2)**2 - 2*lambda_r*(Q*V_i + V_r*self.P)/(V_i**2 + V_r**2)**2"
      ]
     },
     "metadata": {},
     "output_type": "display_data"
    },
    {
     "name": "stdout",
     "output_type": "stream",
     "text": [
      "-4*Q*V_i*lambda_r/(V_i**2 + V_r**2)**2 + 8*V_i**2*lambda_i*(-Q*V_r + V_i*self.P)/(V_i**2 + V_r**2)**3 + 8*V_i**2*lambda_r*(Q*V_i + V_r*self.P)/(V_i**2 + V_r**2)**3 - 4*V_i*lambda_i*self.P/(V_i**2 + V_r**2)**2 - 2*lambda_Q - 2*lambda_i*(-Q*V_r + V_i*self.P)/(V_i**2 + V_r**2)**2 - 2*lambda_r*(Q*V_i + V_r*self.P)/(V_i**2 + V_r**2)**2\n",
      "\n",
      "\n",
      "dVi_dQ:\n",
      "\n"
     ]
    },
    {
     "data": {
      "text/latex": [
       "$\\displaystyle - \\frac{2 V_{i}^{2} \\lambda_{r}}{\\left(V_{i}^{2} + V_{r}^{2}\\right)^{2}} + \\frac{2 V_{i} V_{r} \\lambda_{i}}{\\left(V_{i}^{2} + V_{r}^{2}\\right)^{2}} + \\frac{\\lambda_{r}}{V_{i}^{2} + V_{r}^{2}}$"
      ],
      "text/plain": [
       "-2*V_i**2*lambda_r/(V_i**2 + V_r**2)**2 + 2*V_i*V_r*lambda_i/(V_i**2 + V_r**2)**2 + lambda_r/(V_i**2 + V_r**2)"
      ]
     },
     "metadata": {},
     "output_type": "display_data"
    },
    {
     "name": "stdout",
     "output_type": "stream",
     "text": [
      "-2*V_i**2*lambda_r/(V_i**2 + V_r**2)**2 + 2*V_i*V_r*lambda_i/(V_i**2 + V_r**2)**2 + lambda_r/(V_i**2 + V_r**2)\n",
      "\n",
      "\n",
      "dVi_dLr:\n",
      "\n"
     ]
    },
    {
     "data": {
      "text/latex": [
       "$\\displaystyle \\frac{Q}{V_{i}^{2} + V_{r}^{2}} - \\frac{2 V_{i} \\left(Q V_{i} + V_{r} self.P\\right)}{\\left(V_{i}^{2} + V_{r}^{2}\\right)^{2}}$"
      ],
      "text/plain": [
       "Q/(V_i**2 + V_r**2) - 2*V_i*(Q*V_i + V_r*self.P)/(V_i**2 + V_r**2)**2"
      ]
     },
     "metadata": {},
     "output_type": "display_data"
    },
    {
     "name": "stdout",
     "output_type": "stream",
     "text": [
      "Q/(V_i**2 + V_r**2) - 2*V_i*(Q*V_i + V_r*self.P)/(V_i**2 + V_r**2)**2\n",
      "\n",
      "\n",
      "dVi_dLi:\n",
      "\n"
     ]
    },
    {
     "data": {
      "text/latex": [
       "$\\displaystyle - \\frac{2 V_{i} \\left(- Q V_{r} + V_{i} self.P\\right)}{\\left(V_{i}^{2} + V_{r}^{2}\\right)^{2}} + \\frac{self.P}{V_{i}^{2} + V_{r}^{2}}$"
      ],
      "text/plain": [
       "-2*V_i*(-Q*V_r + V_i*self.P)/(V_i**2 + V_r**2)**2 + self.P/(V_i**2 + V_r**2)"
      ]
     },
     "metadata": {},
     "output_type": "display_data"
    },
    {
     "name": "stdout",
     "output_type": "stream",
     "text": [
      "-2*V_i*(-Q*V_r + V_i*self.P)/(V_i**2 + V_r**2)**2 + self.P/(V_i**2 + V_r**2)\n",
      "\n",
      "\n",
      "dVi_dLQ:\n",
      "\n"
     ]
    },
    {
     "data": {
      "text/latex": [
       "$\\displaystyle - 2 V_{i}$"
      ],
      "text/plain": [
       "-2*V_i"
      ]
     },
     "metadata": {},
     "output_type": "display_data"
    },
    {
     "name": "stdout",
     "output_type": "stream",
     "text": [
      "-2*V_i\n"
     ]
    }
   ],
   "source": [
    "dVi = diff(lagrange, Vi)\n",
    "print(\"dVi:\\n\")\n",
    "disp.display(dVi)\n",
    "print(dVi)\n",
    "print(\"\\n\")\n",
    "\n",
    "dVi_dVr = diff(dVi, Vr)\n",
    "dVi_dVi = diff(dVi, Vi)\n",
    "dVi_dQ = diff(dVi, Q)\n",
    "dVi_dLr = diff(dVi, Lr)\n",
    "dVi_dLi = diff(dVi, Li)\n",
    "dVi_dLQ = diff(dVi, LQ)\n",
    "\n",
    "print(\"dVi_dVr:\\n\")\n",
    "disp.display(dVi_dVr)\n",
    "print(dVi_dVr)\n",
    "print(\"\\n\")\n",
    "print(\"dVi_dVi:\\n\")\n",
    "disp.display(dVi_dVi)\n",
    "print(dVi_dVi)\n",
    "print(\"\\n\")\n",
    "print(\"dVi_dQ:\\n\")\n",
    "disp.display(dVi_dQ)\n",
    "print(dVi_dQ)\n",
    "print(\"\\n\")\n",
    "print(\"dVi_dLr:\\n\")\n",
    "disp.display(dVi_dLr)\n",
    "print(dVi_dLr)\n",
    "print(\"\\n\")\n",
    "print(\"dVi_dLi:\\n\")\n",
    "disp.display(dVi_dLi)\n",
    "print(dVi_dLi)\n",
    "print(\"\\n\")\n",
    "print(\"dVi_dLQ:\\n\")\n",
    "disp.display(dVi_dLQ)\n",
    "print(dVi_dLQ)"
   ]
  },
  {
   "cell_type": "markdown",
   "metadata": {},
   "source": [
    "### Q Portion"
   ]
  },
  {
   "cell_type": "code",
   "execution_count": 37,
   "metadata": {},
   "outputs": [
    {
     "name": "stdout",
     "output_type": "stream",
     "text": [
      "dQ:\n",
      "\n"
     ]
    },
    {
     "data": {
      "text/latex": [
       "$\\displaystyle \\frac{V_{i} \\lambda_{r}}{V_{i}^{2} + V_{r}^{2}} - \\frac{V_{r} \\lambda_{i}}{V_{i}^{2} + V_{r}^{2}}$"
      ],
      "text/plain": [
       "V_i*lambda_r/(V_i**2 + V_r**2) - V_r*lambda_i/(V_i**2 + V_r**2)"
      ]
     },
     "metadata": {},
     "output_type": "display_data"
    },
    {
     "name": "stdout",
     "output_type": "stream",
     "text": [
      "V_i*lambda_r/(V_i**2 + V_r**2) - V_r*lambda_i/(V_i**2 + V_r**2)\n",
      "\n",
      "\n",
      "dQ_dVr:\n",
      "\n"
     ]
    },
    {
     "data": {
      "text/latex": [
       "$\\displaystyle - \\frac{2 V_{i} V_{r} \\lambda_{r}}{\\left(V_{i}^{2} + V_{r}^{2}\\right)^{2}} + \\frac{2 V_{r}^{2} \\lambda_{i}}{\\left(V_{i}^{2} + V_{r}^{2}\\right)^{2}} - \\frac{\\lambda_{i}}{V_{i}^{2} + V_{r}^{2}}$"
      ],
      "text/plain": [
       "-2*V_i*V_r*lambda_r/(V_i**2 + V_r**2)**2 + 2*V_r**2*lambda_i/(V_i**2 + V_r**2)**2 - lambda_i/(V_i**2 + V_r**2)"
      ]
     },
     "metadata": {},
     "output_type": "display_data"
    },
    {
     "name": "stdout",
     "output_type": "stream",
     "text": [
      "-2*V_i*V_r*lambda_r/(V_i**2 + V_r**2)**2 + 2*V_r**2*lambda_i/(V_i**2 + V_r**2)**2 - lambda_i/(V_i**2 + V_r**2)\n",
      "\n",
      "\n",
      "dQ_dVi:\n",
      "\n"
     ]
    },
    {
     "data": {
      "text/latex": [
       "$\\displaystyle - \\frac{2 V_{i}^{2} \\lambda_{r}}{\\left(V_{i}^{2} + V_{r}^{2}\\right)^{2}} + \\frac{2 V_{i} V_{r} \\lambda_{i}}{\\left(V_{i}^{2} + V_{r}^{2}\\right)^{2}} + \\frac{\\lambda_{r}}{V_{i}^{2} + V_{r}^{2}}$"
      ],
      "text/plain": [
       "-2*V_i**2*lambda_r/(V_i**2 + V_r**2)**2 + 2*V_i*V_r*lambda_i/(V_i**2 + V_r**2)**2 + lambda_r/(V_i**2 + V_r**2)"
      ]
     },
     "metadata": {},
     "output_type": "display_data"
    },
    {
     "name": "stdout",
     "output_type": "stream",
     "text": [
      "-2*V_i**2*lambda_r/(V_i**2 + V_r**2)**2 + 2*V_i*V_r*lambda_i/(V_i**2 + V_r**2)**2 + lambda_r/(V_i**2 + V_r**2)\n",
      "\n",
      "\n",
      "dQ_dQ:\n",
      "\n"
     ]
    },
    {
     "data": {
      "text/latex": [
       "$\\displaystyle 0$"
      ],
      "text/plain": [
       "0"
      ]
     },
     "metadata": {},
     "output_type": "display_data"
    },
    {
     "name": "stdout",
     "output_type": "stream",
     "text": [
      "0\n",
      "\n",
      "\n",
      "dQ_dLr:\n",
      "\n"
     ]
    },
    {
     "data": {
      "text/latex": [
       "$\\displaystyle \\frac{V_{i}}{V_{i}^{2} + V_{r}^{2}}$"
      ],
      "text/plain": [
       "V_i/(V_i**2 + V_r**2)"
      ]
     },
     "metadata": {},
     "output_type": "display_data"
    },
    {
     "name": "stdout",
     "output_type": "stream",
     "text": [
      "V_i/(V_i**2 + V_r**2)\n",
      "\n",
      "\n",
      "dQ_dLi:\n",
      "\n"
     ]
    },
    {
     "data": {
      "text/latex": [
       "$\\displaystyle - \\frac{V_{r}}{V_{i}^{2} + V_{r}^{2}}$"
      ],
      "text/plain": [
       "-V_r/(V_i**2 + V_r**2)"
      ]
     },
     "metadata": {},
     "output_type": "display_data"
    },
    {
     "name": "stdout",
     "output_type": "stream",
     "text": [
      "-V_r/(V_i**2 + V_r**2)\n",
      "\n",
      "\n",
      "dQ_dLQ:\n",
      "\n"
     ]
    },
    {
     "data": {
      "text/latex": [
       "$\\displaystyle 0$"
      ],
      "text/plain": [
       "0"
      ]
     },
     "metadata": {},
     "output_type": "display_data"
    },
    {
     "name": "stdout",
     "output_type": "stream",
     "text": [
      "0\n"
     ]
    }
   ],
   "source": [
    "dQ = diff(lagrange, Q)\n",
    "print(\"dQ:\\n\")\n",
    "disp.display(dQ)\n",
    "print(dQ)\n",
    "print(\"\\n\")\n",
    "\n",
    "dQ_dVr = diff(dQ, Vr)\n",
    "dQ_dVi = diff(dQ, Vi)\n",
    "dQ_dQ = diff(dQ, Q)\n",
    "dQ_dLr = diff(dQ, Lr)\n",
    "dQ_dLi = diff(dQ, Li)\n",
    "dQ_dLQ = diff(dQ, LQ)\n",
    "\n",
    "print(\"dQ_dVr:\\n\")\n",
    "disp.display(dQ_dVr)\n",
    "print(dQ_dVr)\n",
    "print(\"\\n\")\n",
    "print(\"dQ_dVi:\\n\")\n",
    "disp.display(dQ_dVi)\n",
    "print(dQ_dVi)\n",
    "print(\"\\n\")\n",
    "print(\"dQ_dQ:\\n\")\n",
    "disp.display(dQ_dQ)\n",
    "print(dQ_dQ)\n",
    "print(\"\\n\")\n",
    "print(\"dQ_dLr:\\n\")\n",
    "disp.display(dQ_dLr)\n",
    "print(dQ_dLr)\n",
    "print(\"\\n\")\n",
    "print(\"dQ_dLi:\\n\")\n",
    "disp.display(dQ_dLi)\n",
    "print(dQ_dLi)\n",
    "print(\"\\n\")\n",
    "print(\"dQ_dLQ:\\n\")\n",
    "disp.display(dQ_dLQ)\n",
    "print(dQ_dLQ)"
   ]
  }
 ],
 "metadata": {
  "interpreter": {
   "hash": "e7370f93d1d0cde622a1f8e1c04877d8463912d04d973331ad4851f04de6915a"
  },
  "kernelspec": {
   "display_name": "Python 3.8.10 64-bit",
   "language": "python",
   "name": "python3"
  },
  "language_info": {
   "codemirror_mode": {
    "name": "ipython",
    "version": 3
   },
   "file_extension": ".py",
   "mimetype": "text/x-python",
   "name": "python",
   "nbconvert_exporter": "python",
   "pygments_lexer": "ipython3",
   "version": "3.8.10"
  },
  "orig_nbformat": 4
 },
 "nbformat": 4,
 "nbformat_minor": 2
}
