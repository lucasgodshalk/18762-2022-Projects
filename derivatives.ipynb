{
 "cells": [
  {
   "cell_type": "code",
   "execution_count": 82,
   "metadata": {},
   "outputs": [],
   "source": [
    "from sympy import *\n",
    "import numpy as np\n",
    "import IPython.display as disp"
   ]
  },
  {
   "cell_type": "markdown",
   "metadata": {},
   "source": [
    "# Transformer"
   ]
  },
  {
   "cell_type": "code",
   "execution_count": 83,
   "metadata": {},
   "outputs": [
    {
     "name": "stdout",
     "output_type": "stream",
     "text": [
      "Transformer:\n",
      "V_br:\n"
     ]
    },
    {
     "data": {
      "image/png": "[encoded data removed]",
      "text/latex": [
       "$\\displaystyle \\lambda_{ir}$"
      ],
      "text/plain": [
       "λᵢᵣ"
      ]
     },
     "metadata": {},
     "output_type": "display_data"
    },
    {
     "name": "stdout",
     "output_type": "stream",
     "text": [
      "V_bi:\n"
     ]
    },
    {
     "data": {
      "image/png": "[encoded data removed]",
      "text/latex": [
       "$\\displaystyle \\lambda_{ii}$"
      ],
      "text/plain": [
       "λᵢᵢ"
      ]
     },
     "metadata": {},
     "output_type": "display_data"
    },
    {
     "name": "stdout",
     "output_type": "stream",
     "text": [
      "I_r:\n"
     ]
    },
    {
     "data": {
      "image/png": "[encoded data removed]",
      "text/latex": [
       "$\\displaystyle \\lambda_{br} + \\lambda_{vi} trsin - \\lambda_{vr} trcos$"
      ],
      "text/plain": [
       "λ_br + λᵥᵢ⋅trsin - λᵥᵣ⋅trcos"
      ]
     },
     "metadata": {},
     "output_type": "display_data"
    },
    {
     "name": "stdout",
     "output_type": "stream",
     "text": [
      "I_i:\n"
     ]
    },
    {
     "data": {
      "image/png": "[encoded data removed]",
      "text/latex": [
       "$\\displaystyle \\lambda_{bi} - \\lambda_{vi} trcos - \\lambda_{vr} trsin$"
      ],
      "text/plain": [
       "λ_bi - λᵥᵢ⋅trcos - λᵥᵣ⋅trsin"
      ]
     },
     "metadata": {},
     "output_type": "display_data"
    },
    {
     "name": "stdout",
     "output_type": "stream",
     "text": [
      "V_r:\n"
     ]
    },
    {
     "data": {
      "image/png": "[encoded data removed]",
      "text/latex": [
       "$\\displaystyle - \\lambda_{ii} trsin - \\lambda_{ir} trcos$"
      ],
      "text/plain": [
       "-λᵢᵢ⋅trsin - λᵢᵣ⋅trcos"
      ]
     },
     "metadata": {},
     "output_type": "display_data"
    },
    {
     "name": "stdout",
     "output_type": "stream",
     "text": [
      "V_i:\n"
     ]
    },
    {
     "data": {
      "image/png": "[encoded data removed]",
      "text/latex": [
       "$\\displaystyle - \\lambda_{ii} trcos + \\lambda_{ir} trsin$"
      ],
      "text/plain": [
       "-λᵢᵢ⋅trcos + λᵢᵣ⋅trsin"
      ]
     },
     "metadata": {},
     "output_type": "display_data"
    }
   ],
   "source": [
    "\n",
    "trcos, trsin = symbols('trcos trsin')\n",
    "variables = [Vbr, Vbi, Ir, Ii, Vr, Vi] = symbols('V_br V_bi I_r I_i V_r V_i')\n",
    "lambdas = [Lbr, Lbi, Lir, Lii, Lvr, Lvi] = symbols('lambda_br lambda_bi lambda_ir lambda_ii lambda_vr lambda_vi')\n",
    "\n",
    "eqns = [\n",
    "    Ir,\n",
    "    Ii,\n",
    "    Vbr - trcos * Vr + trsin * Vi,\n",
    "    Vbi - trcos * Vi - trsin * Vr,\n",
    "    -trcos * Ir - trsin * Ii,\n",
    "    -trcos * Ii + trsin * Ir\n",
    "]\n",
    "\n",
    "lagrange = np.dot(np.transpose(lambdas), eqns)\n",
    "\n",
    "print(\"Transformer:\")\n",
    "for variable in variables:\n",
    "    print(f'{variable}:')\n",
    "    disp.display(diff(lagrange, variable))\n"
   ]
  },
  {
   "cell_type": "markdown",
   "metadata": {},
   "source": [
    "# Load"
   ]
  },
  {
   "cell_type": "code",
   "execution_count": 84,
   "metadata": {},
   "outputs": [
    {
     "name": "stdout",
     "output_type": "stream",
     "text": [
      "Lagrange:\n"
     ]
    },
    {
     "data": {
      "image/png": "[encoded data removed]",
      "text/latex": [
       "$\\displaystyle \\frac{\\lambda_{i} \\left(V_{i} self.P - V_{r} self.Q\\right)}{V_{i}^{2} + V_{r}^{2}} + \\frac{\\lambda_{r} \\left(V_{i} self.Q + V_{r} self.P\\right)}{V_{i}^{2} + V_{r}^{2}}$"
      ],
      "text/plain": [
       "λᵢ⋅(Vᵢ⋅self.P - Vᵣ⋅self.Q)   λᵣ⋅(Vᵢ⋅self.Q + Vᵣ⋅self.P)\n",
       "────────────────────────── + ──────────────────────────\n",
       "          2     2                      2     2         \n",
       "        Vᵢ  + Vᵣ                     Vᵢ  + Vᵣ          "
      ]
     },
     "metadata": {},
     "output_type": "display_data"
    }
   ],
   "source": [
    "\n",
    "P, Q = symbols('self.P self.Q')\n",
    "variables = [Vr, Vi] = symbols('V_r V_i')\n",
    "lambdas = [Lr, Li] = symbols('lambda_r lambda_i')\n",
    "\n",
    "Ir = (P * Vr + Q * Vi) / (Vr ** 2 + Vi ** 2)\n",
    "Ii = (P * Vi - Q * Vr) / (Vr ** 2 + Vi ** 2)\n",
    "\n",
    "lagrange = Lr * Ir + Li * Ii\n",
    "\n",
    "print(\"Lagrange:\")\n",
    "disp.display(lagrange)"
   ]
  },
  {
   "cell_type": "markdown",
   "metadata": {},
   "source": [
    "### Real Portion"
   ]
  },
  {
   "cell_type": "code",
   "execution_count": 85,
   "metadata": {},
   "outputs": [
    {
     "name": "stdout",
     "output_type": "stream",
     "text": [
      "dVr:\n",
      "\n"
     ]
    },
    {
     "data": {
      "image/png": "[encoded data removed]",
      "text/latex": [
       "$\\displaystyle - \\frac{2 V_{r} \\lambda_{i} \\left(V_{i} self.P - V_{r} self.Q\\right)}{\\left(V_{i}^{2} + V_{r}^{2}\\right)^{2}} - \\frac{2 V_{r} \\lambda_{r} \\left(V_{i} self.Q + V_{r} self.P\\right)}{\\left(V_{i}^{2} + V_{r}^{2}\\right)^{2}} - \\frac{\\lambda_{i} self.Q}{V_{i}^{2} + V_{r}^{2}} + \\frac{\\lambda_{r} self.P}{V_{i}^{2} + V_{r}^{2}}$"
      ],
      "text/plain": [
       "  2⋅Vᵣ⋅λᵢ⋅(Vᵢ⋅self.P - Vᵣ⋅self.Q)   2⋅Vᵣ⋅λᵣ⋅(Vᵢ⋅self.Q + Vᵣ⋅self.P)   λᵢ⋅self.\n",
       "- ─────────────────────────────── - ─────────────────────────────── - ────────\n",
       "                       2                                 2              2     \n",
       "            ⎛  2     2⎞                       ⎛  2     2⎞             Vᵢ  + Vᵣ\n",
       "            ⎝Vᵢ  + Vᵣ ⎠                       ⎝Vᵢ  + Vᵣ ⎠                     \n",
       "\n",
       "Q   λᵣ⋅self.P\n",
       "─ + ─────────\n",
       "2     2     2\n",
       "    Vᵢ  + Vᵣ \n",
       "             "
      ]
     },
     "metadata": {},
     "output_type": "display_data"
    },
    {
     "name": "stdout",
     "output_type": "stream",
     "text": [
      "-2*V_r*lambda_i*(V_i*self.P - V_r*self.Q)/(V_i**2 + V_r**2)**2 - 2*V_r*lambda_r*(V_i*self.Q + V_r*self.P)/(V_i**2 + V_r**2)**2 - lambda_i*self.Q/(V_i**2 + V_r**2) + lambda_r*self.P/(V_i**2 + V_r**2)\n",
      "\n",
      "\n",
      "dVr_dVr:\n",
      "\n"
     ]
    },
    {
     "data": {
      "image/png": "[encoded data removed]",
      "text/latex": [
       "$\\displaystyle \\frac{8 V_{r}^{2} \\lambda_{i} \\left(V_{i} self.P - V_{r} self.Q\\right)}{\\left(V_{i}^{2} + V_{r}^{2}\\right)^{3}} + \\frac{8 V_{r}^{2} \\lambda_{r} \\left(V_{i} self.Q + V_{r} self.P\\right)}{\\left(V_{i}^{2} + V_{r}^{2}\\right)^{3}} + \\frac{4 V_{r} \\lambda_{i} self.Q}{\\left(V_{i}^{2} + V_{r}^{2}\\right)^{2}} - \\frac{4 V_{r} \\lambda_{r} self.P}{\\left(V_{i}^{2} + V_{r}^{2}\\right)^{2}} - \\frac{2 \\lambda_{i} \\left(V_{i} self.P - V_{r} self.Q\\right)}{\\left(V_{i}^{2} + V_{r}^{2}\\right)^{2}} - \\frac{2 \\lambda_{r} \\left(V_{i} self.Q + V_{r} self.P\\right)}{\\left(V_{i}^{2} + V_{r}^{2}\\right)^{2}}$"
      ],
      "text/plain": [
       "    2                                  2                                      \n",
       "8⋅Vᵣ ⋅λᵢ⋅(Vᵢ⋅self.P - Vᵣ⋅self.Q)   8⋅Vᵣ ⋅λᵣ⋅(Vᵢ⋅self.Q + Vᵣ⋅self.P)   4⋅Vᵣ⋅λᵢ⋅\n",
       "──────────────────────────────── + ──────────────────────────────── + ────────\n",
       "                     3                                  3                     \n",
       "          ⎛  2     2⎞                        ⎛  2     2⎞               ⎛  2   \n",
       "          ⎝Vᵢ  + Vᵣ ⎠                        ⎝Vᵢ  + Vᵣ ⎠               ⎝Vᵢ  + \n",
       "\n",
       "                                                                              \n",
       "self.Q   4⋅Vᵣ⋅λᵣ⋅self.P   2⋅λᵢ⋅(Vᵢ⋅self.P - Vᵣ⋅self.Q)   2⋅λᵣ⋅(Vᵢ⋅self.Q + Vᵣ⋅\n",
       "────── - ────────────── - ──────────────────────────── - ─────────────────────\n",
       "    2                2                       2                              2 \n",
       "  2⎞      ⎛  2     2⎞             ⎛  2     2⎞                    ⎛  2     2⎞  \n",
       "Vᵣ ⎠      ⎝Vᵢ  + Vᵣ ⎠             ⎝Vᵢ  + Vᵣ ⎠                    ⎝Vᵢ  + Vᵣ ⎠  \n",
       "\n",
       "       \n",
       "self.P)\n",
       "───────\n",
       "       \n",
       "       \n",
       "       "
      ]
     },
     "metadata": {},
     "output_type": "display_data"
    },
    {
     "name": "stdout",
     "output_type": "stream",
     "text": [
      "8*V_r**2*lambda_i*(V_i*self.P - V_r*self.Q)/(V_i**2 + V_r**2)**3 + 8*V_r**2*lambda_r*(V_i*self.Q + V_r*self.P)/(V_i**2 + V_r**2)**3 + 4*V_r*lambda_i*self.Q/(V_i**2 + V_r**2)**2 - 4*V_r*lambda_r*self.P/(V_i**2 + V_r**2)**2 - 2*lambda_i*(V_i*self.P - V_r*self.Q)/(V_i**2 + V_r**2)**2 - 2*lambda_r*(V_i*self.Q + V_r*self.P)/(V_i**2 + V_r**2)**2\n",
      "\n",
      "\n",
      "dVr_dVi:\n",
      "\n"
     ]
    },
    {
     "data": {
      "image/png": "[encoded data removed]",
      "text/latex": [
       "$\\displaystyle \\frac{8 V_{i} V_{r} \\lambda_{i} \\left(V_{i} self.P - V_{r} self.Q\\right)}{\\left(V_{i}^{2} + V_{r}^{2}\\right)^{3}} + \\frac{8 V_{i} V_{r} \\lambda_{r} \\left(V_{i} self.Q + V_{r} self.P\\right)}{\\left(V_{i}^{2} + V_{r}^{2}\\right)^{3}} + \\frac{2 V_{i} \\lambda_{i} self.Q}{\\left(V_{i}^{2} + V_{r}^{2}\\right)^{2}} - \\frac{2 V_{i} \\lambda_{r} self.P}{\\left(V_{i}^{2} + V_{r}^{2}\\right)^{2}} - \\frac{2 V_{r} \\lambda_{i} self.P}{\\left(V_{i}^{2} + V_{r}^{2}\\right)^{2}} - \\frac{2 V_{r} \\lambda_{r} self.Q}{\\left(V_{i}^{2} + V_{r}^{2}\\right)^{2}}$"
      ],
      "text/plain": [
       "8⋅Vᵢ⋅Vᵣ⋅λᵢ⋅(Vᵢ⋅self.P - Vᵣ⋅self.Q)   8⋅Vᵢ⋅Vᵣ⋅λᵣ⋅(Vᵢ⋅self.Q + Vᵣ⋅self.P)   2⋅Vᵢ\n",
       "────────────────────────────────── + ────────────────────────────────── + ────\n",
       "                      3                                    3                  \n",
       "           ⎛  2     2⎞                          ⎛  2     2⎞                ⎛  \n",
       "           ⎝Vᵢ  + Vᵣ ⎠                          ⎝Vᵢ  + Vᵣ ⎠                ⎝Vᵢ\n",
       "\n",
       "⋅λᵢ⋅self.Q   2⋅Vᵢ⋅λᵣ⋅self.P   2⋅Vᵣ⋅λᵢ⋅self.P   2⋅Vᵣ⋅λᵣ⋅self.Q\n",
       "────────── - ────────────── - ────────────── - ──────────────\n",
       "        2                2                2                2 \n",
       "2     2⎞      ⎛  2     2⎞      ⎛  2     2⎞      ⎛  2     2⎞  \n",
       "  + Vᵣ ⎠      ⎝Vᵢ  + Vᵣ ⎠      ⎝Vᵢ  + Vᵣ ⎠      ⎝Vᵢ  + Vᵣ ⎠  "
      ]
     },
     "metadata": {},
     "output_type": "display_data"
    },
    {
     "name": "stdout",
     "output_type": "stream",
     "text": [
      "8*V_i*V_r*lambda_i*(V_i*self.P - V_r*self.Q)/(V_i**2 + V_r**2)**3 + 8*V_i*V_r*lambda_r*(V_i*self.Q + V_r*self.P)/(V_i**2 + V_r**2)**3 + 2*V_i*lambda_i*self.Q/(V_i**2 + V_r**2)**2 - 2*V_i*lambda_r*self.P/(V_i**2 + V_r**2)**2 - 2*V_r*lambda_i*self.P/(V_i**2 + V_r**2)**2 - 2*V_r*lambda_r*self.Q/(V_i**2 + V_r**2)**2\n",
      "\n",
      "\n",
      "dVr_dLr:\n",
      "\n"
     ]
    },
    {
     "data": {
      "image/png": "[encoded data removed]",
      "text/latex": [
       "$\\displaystyle - \\frac{2 V_{r} \\left(V_{i} self.Q + V_{r} self.P\\right)}{\\left(V_{i}^{2} + V_{r}^{2}\\right)^{2}} + \\frac{self.P}{V_{i}^{2} + V_{r}^{2}}$"
      ],
      "text/plain": [
       "  2⋅Vᵣ⋅(Vᵢ⋅self.Q + Vᵣ⋅self.P)     self.P \n",
       "- ──────────────────────────── + ─────────\n",
       "                     2             2     2\n",
       "          ⎛  2     2⎞            Vᵢ  + Vᵣ \n",
       "          ⎝Vᵢ  + Vᵣ ⎠                     "
      ]
     },
     "metadata": {},
     "output_type": "display_data"
    },
    {
     "name": "stdout",
     "output_type": "stream",
     "text": [
      "-2*V_r*(V_i*self.Q + V_r*self.P)/(V_i**2 + V_r**2)**2 + self.P/(V_i**2 + V_r**2)\n",
      "\n",
      "\n",
      "dVr_dLi:\n",
      "\n"
     ]
    },
    {
     "data": {
      "image/png": "[encoded data removed]",
      "text/latex": [
       "$\\displaystyle - \\frac{2 V_{r} \\left(V_{i} self.P - V_{r} self.Q\\right)}{\\left(V_{i}^{2} + V_{r}^{2}\\right)^{2}} - \\frac{self.Q}{V_{i}^{2} + V_{r}^{2}}$"
      ],
      "text/plain": [
       "  2⋅Vᵣ⋅(Vᵢ⋅self.P - Vᵣ⋅self.Q)     self.Q \n",
       "- ──────────────────────────── - ─────────\n",
       "                     2             2     2\n",
       "          ⎛  2     2⎞            Vᵢ  + Vᵣ \n",
       "          ⎝Vᵢ  + Vᵣ ⎠                     "
      ]
     },
     "metadata": {},
     "output_type": "display_data"
    },
    {
     "name": "stdout",
     "output_type": "stream",
     "text": [
      "-2*V_r*(V_i*self.P - V_r*self.Q)/(V_i**2 + V_r**2)**2 - self.Q/(V_i**2 + V_r**2)\n"
     ]
    }
   ],
   "source": [
    "dVr = diff(lagrange, Vr)\n",
    "print(\"dVr:\\n\")\n",
    "disp.display(dVr)\n",
    "print(dVr)\n",
    "print(\"\\n\")\n",
    "\n",
    "dVr_dVr = diff(dVr, Vr)\n",
    "dVr_dVi = diff(dVr, Vi)\n",
    "dVr_dLr = diff(dVr, Lr)\n",
    "dVr_dLi = diff(dVr, Li)\n",
    "\n",
    "print(\"dVr_dVr:\\n\")\n",
    "disp.display(dVr_dVr)\n",
    "print(dVr_dVr)\n",
    "print(\"\\n\")\n",
    "print(\"dVr_dVi:\\n\")\n",
    "disp.display(dVr_dVi)\n",
    "print(dVr_dVi)\n",
    "print(\"\\n\")\n",
    "print(\"dVr_dLr:\\n\")\n",
    "disp.display(dVr_dLr)\n",
    "print(dVr_dLr)\n",
    "print(\"\\n\")\n",
    "print(\"dVr_dLi:\\n\")\n",
    "disp.display(dVr_dLi)\n",
    "print(dVr_dLi)"
   ]
  },
  {
   "cell_type": "markdown",
   "metadata": {},
   "source": [
    "### Imaginary Portion"
   ]
  },
  {
   "cell_type": "code",
   "execution_count": 86,
   "metadata": {},
   "outputs": [
    {
     "name": "stdout",
     "output_type": "stream",
     "text": [
      "dVi:\n",
      "\n"
     ]
    },
    {
     "data": {
      "image/png": "[encoded data removed]",
      "text/latex": [
       "$\\displaystyle - \\frac{2 V_{i} \\lambda_{i} \\left(V_{i} self.P - V_{r} self.Q\\right)}{\\left(V_{i}^{2} + V_{r}^{2}\\right)^{2}} - \\frac{2 V_{i} \\lambda_{r} \\left(V_{i} self.Q + V_{r} self.P\\right)}{\\left(V_{i}^{2} + V_{r}^{2}\\right)^{2}} + \\frac{\\lambda_{i} self.P}{V_{i}^{2} + V_{r}^{2}} + \\frac{\\lambda_{r} self.Q}{V_{i}^{2} + V_{r}^{2}}$"
      ],
      "text/plain": [
       "  2⋅Vᵢ⋅λᵢ⋅(Vᵢ⋅self.P - Vᵣ⋅self.Q)   2⋅Vᵢ⋅λᵣ⋅(Vᵢ⋅self.Q + Vᵣ⋅self.P)   λᵢ⋅self.\n",
       "- ─────────────────────────────── - ─────────────────────────────── + ────────\n",
       "                       2                                 2              2     \n",
       "            ⎛  2     2⎞                       ⎛  2     2⎞             Vᵢ  + Vᵣ\n",
       "            ⎝Vᵢ  + Vᵣ ⎠                       ⎝Vᵢ  + Vᵣ ⎠                     \n",
       "\n",
       "P   λᵣ⋅self.Q\n",
       "─ + ─────────\n",
       "2     2     2\n",
       "    Vᵢ  + Vᵣ \n",
       "             "
      ]
     },
     "metadata": {},
     "output_type": "display_data"
    },
    {
     "name": "stdout",
     "output_type": "stream",
     "text": [
      "-2*V_i*lambda_i*(V_i*self.P - V_r*self.Q)/(V_i**2 + V_r**2)**2 - 2*V_i*lambda_r*(V_i*self.Q + V_r*self.P)/(V_i**2 + V_r**2)**2 + lambda_i*self.P/(V_i**2 + V_r**2) + lambda_r*self.Q/(V_i**2 + V_r**2)\n",
      "\n",
      "\n",
      "dVi_dVr:\n",
      "\n"
     ]
    },
    {
     "data": {
      "image/png": "[encoded data removed]",
      "text/latex": [
       "$\\displaystyle \\frac{8 V_{i} V_{r} \\lambda_{i} \\left(V_{i} self.P - V_{r} self.Q\\right)}{\\left(V_{i}^{2} + V_{r}^{2}\\right)^{3}} + \\frac{8 V_{i} V_{r} \\lambda_{r} \\left(V_{i} self.Q + V_{r} self.P\\right)}{\\left(V_{i}^{2} + V_{r}^{2}\\right)^{3}} + \\frac{2 V_{i} \\lambda_{i} self.Q}{\\left(V_{i}^{2} + V_{r}^{2}\\right)^{2}} - \\frac{2 V_{i} \\lambda_{r} self.P}{\\left(V_{i}^{2} + V_{r}^{2}\\right)^{2}} - \\frac{2 V_{r} \\lambda_{i} self.P}{\\left(V_{i}^{2} + V_{r}^{2}\\right)^{2}} - \\frac{2 V_{r} \\lambda_{r} self.Q}{\\left(V_{i}^{2} + V_{r}^{2}\\right)^{2}}$"
      ],
      "text/plain": [
       "8⋅Vᵢ⋅Vᵣ⋅λᵢ⋅(Vᵢ⋅self.P - Vᵣ⋅self.Q)   8⋅Vᵢ⋅Vᵣ⋅λᵣ⋅(Vᵢ⋅self.Q + Vᵣ⋅self.P)   2⋅Vᵢ\n",
       "────────────────────────────────── + ────────────────────────────────── + ────\n",
       "                      3                                    3                  \n",
       "           ⎛  2     2⎞                          ⎛  2     2⎞                ⎛  \n",
       "           ⎝Vᵢ  + Vᵣ ⎠                          ⎝Vᵢ  + Vᵣ ⎠                ⎝Vᵢ\n",
       "\n",
       "⋅λᵢ⋅self.Q   2⋅Vᵢ⋅λᵣ⋅self.P   2⋅Vᵣ⋅λᵢ⋅self.P   2⋅Vᵣ⋅λᵣ⋅self.Q\n",
       "────────── - ────────────── - ────────────── - ──────────────\n",
       "        2                2                2                2 \n",
       "2     2⎞      ⎛  2     2⎞      ⎛  2     2⎞      ⎛  2     2⎞  \n",
       "  + Vᵣ ⎠      ⎝Vᵢ  + Vᵣ ⎠      ⎝Vᵢ  + Vᵣ ⎠      ⎝Vᵢ  + Vᵣ ⎠  "
      ]
     },
     "metadata": {},
     "output_type": "display_data"
    },
    {
     "name": "stdout",
     "output_type": "stream",
     "text": [
      "8*V_i*V_r*lambda_i*(V_i*self.P - V_r*self.Q)/(V_i**2 + V_r**2)**3 + 8*V_i*V_r*lambda_r*(V_i*self.Q + V_r*self.P)/(V_i**2 + V_r**2)**3 + 2*V_i*lambda_i*self.Q/(V_i**2 + V_r**2)**2 - 2*V_i*lambda_r*self.P/(V_i**2 + V_r**2)**2 - 2*V_r*lambda_i*self.P/(V_i**2 + V_r**2)**2 - 2*V_r*lambda_r*self.Q/(V_i**2 + V_r**2)**2\n",
      "\n",
      "\n",
      "dVi_dVi:\n",
      "\n"
     ]
    },
    {
     "data": {
      "image/png": "[encoded data removed]",
      "text/latex": [
       "$\\displaystyle \\frac{8 V_{i}^{2} \\lambda_{i} \\left(V_{i} self.P - V_{r} self.Q\\right)}{\\left(V_{i}^{2} + V_{r}^{2}\\right)^{3}} + \\frac{8 V_{i}^{2} \\lambda_{r} \\left(V_{i} self.Q + V_{r} self.P\\right)}{\\left(V_{i}^{2} + V_{r}^{2}\\right)^{3}} - \\frac{4 V_{i} \\lambda_{i} self.P}{\\left(V_{i}^{2} + V_{r}^{2}\\right)^{2}} - \\frac{4 V_{i} \\lambda_{r} self.Q}{\\left(V_{i}^{2} + V_{r}^{2}\\right)^{2}} - \\frac{2 \\lambda_{i} \\left(V_{i} self.P - V_{r} self.Q\\right)}{\\left(V_{i}^{2} + V_{r}^{2}\\right)^{2}} - \\frac{2 \\lambda_{r} \\left(V_{i} self.Q + V_{r} self.P\\right)}{\\left(V_{i}^{2} + V_{r}^{2}\\right)^{2}}$"
      ],
      "text/plain": [
       "    2                                  2                                      \n",
       "8⋅Vᵢ ⋅λᵢ⋅(Vᵢ⋅self.P - Vᵣ⋅self.Q)   8⋅Vᵢ ⋅λᵣ⋅(Vᵢ⋅self.Q + Vᵣ⋅self.P)   4⋅Vᵢ⋅λᵢ⋅\n",
       "──────────────────────────────── + ──────────────────────────────── - ────────\n",
       "                     3                                  3                     \n",
       "          ⎛  2     2⎞                        ⎛  2     2⎞               ⎛  2   \n",
       "          ⎝Vᵢ  + Vᵣ ⎠                        ⎝Vᵢ  + Vᵣ ⎠               ⎝Vᵢ  + \n",
       "\n",
       "                                                                              \n",
       "self.P   4⋅Vᵢ⋅λᵣ⋅self.Q   2⋅λᵢ⋅(Vᵢ⋅self.P - Vᵣ⋅self.Q)   2⋅λᵣ⋅(Vᵢ⋅self.Q + Vᵣ⋅\n",
       "────── - ────────────── - ──────────────────────────── - ─────────────────────\n",
       "    2                2                       2                              2 \n",
       "  2⎞      ⎛  2     2⎞             ⎛  2     2⎞                    ⎛  2     2⎞  \n",
       "Vᵣ ⎠      ⎝Vᵢ  + Vᵣ ⎠             ⎝Vᵢ  + Vᵣ ⎠                    ⎝Vᵢ  + Vᵣ ⎠  \n",
       "\n",
       "       \n",
       "self.P)\n",
       "───────\n",
       "       \n",
       "       \n",
       "       "
      ]
     },
     "metadata": {},
     "output_type": "display_data"
    },
    {
     "name": "stdout",
     "output_type": "stream",
     "text": [
      "8*V_i**2*lambda_i*(V_i*self.P - V_r*self.Q)/(V_i**2 + V_r**2)**3 + 8*V_i**2*lambda_r*(V_i*self.Q + V_r*self.P)/(V_i**2 + V_r**2)**3 - 4*V_i*lambda_i*self.P/(V_i**2 + V_r**2)**2 - 4*V_i*lambda_r*self.Q/(V_i**2 + V_r**2)**2 - 2*lambda_i*(V_i*self.P - V_r*self.Q)/(V_i**2 + V_r**2)**2 - 2*lambda_r*(V_i*self.Q + V_r*self.P)/(V_i**2 + V_r**2)**2\n",
      "\n",
      "\n",
      "dVi_dLr:\n",
      "\n"
     ]
    },
    {
     "data": {
      "image/png": "[encoded data removed]",
      "text/latex": [
       "$\\displaystyle - \\frac{2 V_{i} \\left(V_{i} self.Q + V_{r} self.P\\right)}{\\left(V_{i}^{2} + V_{r}^{2}\\right)^{2}} + \\frac{self.Q}{V_{i}^{2} + V_{r}^{2}}$"
      ],
      "text/plain": [
       "  2⋅Vᵢ⋅(Vᵢ⋅self.Q + Vᵣ⋅self.P)     self.Q \n",
       "- ──────────────────────────── + ─────────\n",
       "                     2             2     2\n",
       "          ⎛  2     2⎞            Vᵢ  + Vᵣ \n",
       "          ⎝Vᵢ  + Vᵣ ⎠                     "
      ]
     },
     "metadata": {},
     "output_type": "display_data"
    },
    {
     "name": "stdout",
     "output_type": "stream",
     "text": [
      "-2*V_i*(V_i*self.Q + V_r*self.P)/(V_i**2 + V_r**2)**2 + self.Q/(V_i**2 + V_r**2)\n",
      "\n",
      "\n",
      "dVi_dLi:\n",
      "\n"
     ]
    },
    {
     "data": {
      "image/png": "[encoded data removed]",
      "text/latex": [
       "$\\displaystyle - \\frac{2 V_{i} \\left(V_{i} self.P - V_{r} self.Q\\right)}{\\left(V_{i}^{2} + V_{r}^{2}\\right)^{2}} + \\frac{self.P}{V_{i}^{2} + V_{r}^{2}}$"
      ],
      "text/plain": [
       "  2⋅Vᵢ⋅(Vᵢ⋅self.P - Vᵣ⋅self.Q)     self.P \n",
       "- ──────────────────────────── + ─────────\n",
       "                     2             2     2\n",
       "          ⎛  2     2⎞            Vᵢ  + Vᵣ \n",
       "          ⎝Vᵢ  + Vᵣ ⎠                     "
      ]
     },
     "metadata": {},
     "output_type": "display_data"
    },
    {
     "name": "stdout",
     "output_type": "stream",
     "text": [
      "-2*V_i*(V_i*self.P - V_r*self.Q)/(V_i**2 + V_r**2)**2 + self.P/(V_i**2 + V_r**2)\n"
     ]
    }
   ],
   "source": [
    "dVi = diff(lagrange, Vi)\n",
    "print(\"dVi:\\n\")\n",
    "disp.display(dVi)\n",
    "print(dVi)\n",
    "print(\"\\n\")\n",
    "\n",
    "dVi_dVr = diff(dVi, Vr)\n",
    "dVi_dVi = diff(dVi, Vi)\n",
    "dVi_dLr = diff(dVi, Lr)\n",
    "dVi_dLi = diff(dVi, Li)\n",
    "\n",
    "print(\"dVi_dVr:\\n\")\n",
    "disp.display(dVi_dVr)\n",
    "print(dVi_dVr)\n",
    "print(\"\\n\")\n",
    "print(\"dVi_dVi:\\n\")\n",
    "disp.display(dVi_dVi)\n",
    "print(dVi_dVi)\n",
    "print(\"\\n\")\n",
    "print(\"dVi_dLr:\\n\")\n",
    "disp.display(dVi_dLr)\n",
    "print(dVi_dLr)\n",
    "print(\"\\n\")\n",
    "print(\"dVi_dLi:\\n\")\n",
    "disp.display(dVi_dLi)\n",
    "print(dVi_dLi)"
   ]
  },
  {
   "cell_type": "markdown",
   "metadata": {},
   "source": [
    "# Generator"
   ]
  },
  {
   "cell_type": "code",
   "execution_count": 92,
   "metadata": {},
   "outputs": [
    {
     "name": "stdout",
     "output_type": "stream",
     "text": [
      "Lagrange:\n"
     ]
    },
    {
     "data": {
      "image/png": "[encoded data removed]",
      "text/latex": [
       "$\\displaystyle \\lambda_{Q} \\left(- V_{i}^{2} - V_{r}^{2} + self.Vset^{2}\\right) + \\frac{\\lambda_{i} \\left(- Q V_{r} + V_{i} self.P\\right)}{V_{i}^{2} + V_{r}^{2}} + \\frac{\\lambda_{r} \\left(Q V_{i} + V_{r} self.P\\right)}{V_{i}^{2} + V_{r}^{2}}$"
      ],
      "text/plain": [
       "    ⎛    2     2            2⎞   λᵢ⋅(-Q⋅Vᵣ + Vᵢ⋅self.P)   λᵣ⋅(Q⋅Vᵢ + Vᵣ⋅self.P\n",
       "λ_Q⋅⎝- Vᵢ  - Vᵣ  + self.Vset ⎠ + ────────────────────── + ────────────────────\n",
       "                                         2     2                  2     2     \n",
       "                                       Vᵢ  + Vᵣ                 Vᵢ  + Vᵣ      \n",
       "\n",
       ")\n",
       "─\n",
       " \n",
       " "
      ]
     },
     "metadata": {},
     "output_type": "display_data"
    }
   ],
   "source": [
    "P, Vset = symbols('self.P self.Vset')\n",
    "variables = [Vr, Vi, Q] = symbols('V_r V_i Q')\n",
    "lambdas = [Lr, Li, LQ] = symbols('lambda_r lambda_i lambda_Q')\n",
    "\n",
    "Ir = (P * Vr + Q * Vi) / (Vr ** 2 + Vi ** 2)\n",
    "Ii = (P * Vi - Q * Vr) / (Vr ** 2 + Vi ** 2)\n",
    "Q_k = Vset ** 2 - Vr ** 2 - Vi ** 2\n",
    "\n",
    "lagrange = Lr * Ir + Li * Ii + Q_k * LQ\n",
    "\n",
    "print(\"Lagrange:\")\n",
    "disp.display(lagrange)"
   ]
  },
  {
   "cell_type": "markdown",
   "metadata": {},
   "source": [
    "### Real Portion"
   ]
  },
  {
   "cell_type": "code",
   "execution_count": 93,
   "metadata": {},
   "outputs": [
    {
     "name": "stdout",
     "output_type": "stream",
     "text": [
      "dVr:\n",
      "\n"
     ]
    },
    {
     "data": {
      "image/png": "[encoded data removed]",
      "text/latex": [
       "$\\displaystyle - \\frac{Q \\lambda_{i}}{V_{i}^{2} + V_{r}^{2}} - 2 V_{r} \\lambda_{Q} - \\frac{2 V_{r} \\lambda_{i} \\left(- Q V_{r} + V_{i} self.P\\right)}{\\left(V_{i}^{2} + V_{r}^{2}\\right)^{2}} - \\frac{2 V_{r} \\lambda_{r} \\left(Q V_{i} + V_{r} self.P\\right)}{\\left(V_{i}^{2} + V_{r}^{2}\\right)^{2}} + \\frac{\\lambda_{r} self.P}{V_{i}^{2} + V_{r}^{2}}$"
      ],
      "text/plain": [
       "     Q⋅λᵢ                2⋅Vᵣ⋅λᵢ⋅(-Q⋅Vᵣ + Vᵢ⋅self.P)   2⋅Vᵣ⋅λᵣ⋅(Q⋅Vᵢ + Vᵣ⋅self\n",
       "- ───────── - 2⋅Vᵣ⋅λ_Q - ─────────────────────────── - ───────────────────────\n",
       "    2     2                                 2                            2    \n",
       "  Vᵢ  + Vᵣ                       ⎛  2     2⎞                  ⎛  2     2⎞     \n",
       "                                 ⎝Vᵢ  + Vᵣ ⎠                  ⎝Vᵢ  + Vᵣ ⎠     \n",
       "\n",
       ".P)   λᵣ⋅self.P\n",
       "─── + ─────────\n",
       "        2     2\n",
       "      Vᵢ  + Vᵣ \n",
       "               "
      ]
     },
     "metadata": {},
     "output_type": "display_data"
    },
    {
     "name": "stdout",
     "output_type": "stream",
     "text": [
      "-Q*lambda_i/(V_i**2 + V_r**2) - 2*V_r*lambda_Q - 2*V_r*lambda_i*(-Q*V_r + V_i*self.P)/(V_i**2 + V_r**2)**2 - 2*V_r*lambda_r*(Q*V_i + V_r*self.P)/(V_i**2 + V_r**2)**2 + lambda_r*self.P/(V_i**2 + V_r**2)\n",
      "\n",
      "\n",
      "dVr_dVr:\n",
      "\n"
     ]
    },
    {
     "data": {
      "image/png": "[encoded data removed]",
      "text/latex": [
       "$\\displaystyle \\frac{4 Q V_{r} \\lambda_{i}}{\\left(V_{i}^{2} + V_{r}^{2}\\right)^{2}} + \\frac{8 V_{r}^{2} \\lambda_{i} \\left(- Q V_{r} + V_{i} self.P\\right)}{\\left(V_{i}^{2} + V_{r}^{2}\\right)^{3}} + \\frac{8 V_{r}^{2} \\lambda_{r} \\left(Q V_{i} + V_{r} self.P\\right)}{\\left(V_{i}^{2} + V_{r}^{2}\\right)^{3}} - \\frac{4 V_{r} \\lambda_{r} self.P}{\\left(V_{i}^{2} + V_{r}^{2}\\right)^{2}} - 2 \\lambda_{Q} - \\frac{2 \\lambda_{i} \\left(- Q V_{r} + V_{i} self.P\\right)}{\\left(V_{i}^{2} + V_{r}^{2}\\right)^{2}} - \\frac{2 \\lambda_{r} \\left(Q V_{i} + V_{r} self.P\\right)}{\\left(V_{i}^{2} + V_{r}^{2}\\right)^{2}}$"
      ],
      "text/plain": [
       "                   2                              2                           \n",
       " 4⋅Q⋅Vᵣ⋅λᵢ     8⋅Vᵣ ⋅λᵢ⋅(-Q⋅Vᵣ + Vᵢ⋅self.P)   8⋅Vᵣ ⋅λᵣ⋅(Q⋅Vᵢ + Vᵣ⋅self.P)   4⋅\n",
       "──────────── + ──────────────────────────── + ─────────────────────────── - ──\n",
       "           2                      3                              3            \n",
       "⎛  2     2⎞            ⎛  2     2⎞                    ⎛  2     2⎞            ⎛\n",
       "⎝Vᵢ  + Vᵣ ⎠            ⎝Vᵢ  + Vᵣ ⎠                    ⎝Vᵢ  + Vᵣ ⎠            ⎝\n",
       "\n",
       "                                                                         \n",
       "Vᵣ⋅λᵣ⋅self.P           2⋅λᵢ⋅(-Q⋅Vᵣ + Vᵢ⋅self.P)   2⋅λᵣ⋅(Q⋅Vᵢ + Vᵣ⋅self.P)\n",
       "──────────── - 2⋅λ_Q - ──────────────────────── - ───────────────────────\n",
       "          2                             2                          2     \n",
       "  2     2⎞                   ⎛  2     2⎞                ⎛  2     2⎞      \n",
       "Vᵢ  + Vᵣ ⎠                   ⎝Vᵢ  + Vᵣ ⎠                ⎝Vᵢ  + Vᵣ ⎠      "
      ]
     },
     "metadata": {},
     "output_type": "display_data"
    },
    {
     "name": "stdout",
     "output_type": "stream",
     "text": [
      "4*Q*V_r*lambda_i/(V_i**2 + V_r**2)**2 + 8*V_r**2*lambda_i*(-Q*V_r + V_i*self.P)/(V_i**2 + V_r**2)**3 + 8*V_r**2*lambda_r*(Q*V_i + V_r*self.P)/(V_i**2 + V_r**2)**3 - 4*V_r*lambda_r*self.P/(V_i**2 + V_r**2)**2 - 2*lambda_Q - 2*lambda_i*(-Q*V_r + V_i*self.P)/(V_i**2 + V_r**2)**2 - 2*lambda_r*(Q*V_i + V_r*self.P)/(V_i**2 + V_r**2)**2\n",
      "\n",
      "\n",
      "dVr_dVi:\n",
      "\n"
     ]
    },
    {
     "data": {
      "image/png": "[encoded data removed]",
      "text/latex": [
       "$\\displaystyle \\frac{2 Q V_{i} \\lambda_{i}}{\\left(V_{i}^{2} + V_{r}^{2}\\right)^{2}} - \\frac{2 Q V_{r} \\lambda_{r}}{\\left(V_{i}^{2} + V_{r}^{2}\\right)^{2}} + \\frac{8 V_{i} V_{r} \\lambda_{i} \\left(- Q V_{r} + V_{i} self.P\\right)}{\\left(V_{i}^{2} + V_{r}^{2}\\right)^{3}} + \\frac{8 V_{i} V_{r} \\lambda_{r} \\left(Q V_{i} + V_{r} self.P\\right)}{\\left(V_{i}^{2} + V_{r}^{2}\\right)^{3}} - \\frac{2 V_{i} \\lambda_{r} self.P}{\\left(V_{i}^{2} + V_{r}^{2}\\right)^{2}} - \\frac{2 V_{r} \\lambda_{i} self.P}{\\left(V_{i}^{2} + V_{r}^{2}\\right)^{2}}$"
      ],
      "text/plain": [
       " 2⋅Q⋅Vᵢ⋅λᵢ      2⋅Q⋅Vᵣ⋅λᵣ     8⋅Vᵢ⋅Vᵣ⋅λᵢ⋅(-Q⋅Vᵣ + Vᵢ⋅self.P)   8⋅Vᵢ⋅Vᵣ⋅λᵣ⋅(Q⋅V\n",
       "──────────── - ──────────── + ────────────────────────────── + ───────────────\n",
       "           2              2                       3                           \n",
       "⎛  2     2⎞    ⎛  2     2⎞             ⎛  2     2⎞                      ⎛  2  \n",
       "⎝Vᵢ  + Vᵣ ⎠    ⎝Vᵢ  + Vᵣ ⎠             ⎝Vᵢ  + Vᵣ ⎠                      ⎝Vᵢ  +\n",
       "\n",
       "ᵢ + Vᵣ⋅self.P)   2⋅Vᵢ⋅λᵣ⋅self.P   2⋅Vᵣ⋅λᵢ⋅self.P\n",
       "────────────── - ────────────── - ──────────────\n",
       "     3                       2                2 \n",
       "   2⎞             ⎛  2     2⎞      ⎛  2     2⎞  \n",
       " Vᵣ ⎠             ⎝Vᵢ  + Vᵣ ⎠      ⎝Vᵢ  + Vᵣ ⎠  "
      ]
     },
     "metadata": {},
     "output_type": "display_data"
    },
    {
     "name": "stdout",
     "output_type": "stream",
     "text": [
      "2*Q*V_i*lambda_i/(V_i**2 + V_r**2)**2 - 2*Q*V_r*lambda_r/(V_i**2 + V_r**2)**2 + 8*V_i*V_r*lambda_i*(-Q*V_r + V_i*self.P)/(V_i**2 + V_r**2)**3 + 8*V_i*V_r*lambda_r*(Q*V_i + V_r*self.P)/(V_i**2 + V_r**2)**3 - 2*V_i*lambda_r*self.P/(V_i**2 + V_r**2)**2 - 2*V_r*lambda_i*self.P/(V_i**2 + V_r**2)**2\n",
      "\n",
      "\n",
      "dVr_dQ:\n",
      "\n"
     ]
    },
    {
     "data": {
      "image/png": "[encoded data removed]",
      "text/latex": [
       "$\\displaystyle - \\frac{2 V_{i} V_{r} \\lambda_{r}}{\\left(V_{i}^{2} + V_{r}^{2}\\right)^{2}} + \\frac{2 V_{r}^{2} \\lambda_{i}}{\\left(V_{i}^{2} + V_{r}^{2}\\right)^{2}} - \\frac{\\lambda_{i}}{V_{i}^{2} + V_{r}^{2}}$"
      ],
      "text/plain": [
       "                       2                 \n",
       "   2⋅Vᵢ⋅Vᵣ⋅λᵣ      2⋅Vᵣ ⋅λᵢ         λᵢ   \n",
       "- ──────────── + ──────────── - ─────────\n",
       "             2              2     2     2\n",
       "  ⎛  2     2⎞    ⎛  2     2⎞    Vᵢ  + Vᵣ \n",
       "  ⎝Vᵢ  + Vᵣ ⎠    ⎝Vᵢ  + Vᵣ ⎠             "
      ]
     },
     "metadata": {},
     "output_type": "display_data"
    },
    {
     "name": "stdout",
     "output_type": "stream",
     "text": [
      "-2*V_i*V_r*lambda_r/(V_i**2 + V_r**2)**2 + 2*V_r**2*lambda_i/(V_i**2 + V_r**2)**2 - lambda_i/(V_i**2 + V_r**2)\n",
      "\n",
      "\n",
      "dVr_dLr:\n",
      "\n"
     ]
    },
    {
     "data": {
      "image/png": "[encoded data removed]",
      "text/latex": [
       "$\\displaystyle - \\frac{2 V_{r} \\left(Q V_{i} + V_{r} self.P\\right)}{\\left(V_{i}^{2} + V_{r}^{2}\\right)^{2}} + \\frac{self.P}{V_{i}^{2} + V_{r}^{2}}$"
      ],
      "text/plain": [
       "  2⋅Vᵣ⋅(Q⋅Vᵢ + Vᵣ⋅self.P)     self.P \n",
       "- ─────────────────────── + ─────────\n",
       "                   2          2     2\n",
       "        ⎛  2     2⎞         Vᵢ  + Vᵣ \n",
       "        ⎝Vᵢ  + Vᵣ ⎠                  "
      ]
     },
     "metadata": {},
     "output_type": "display_data"
    },
    {
     "name": "stdout",
     "output_type": "stream",
     "text": [
      "-2*V_r*(Q*V_i + V_r*self.P)/(V_i**2 + V_r**2)**2 + self.P/(V_i**2 + V_r**2)\n",
      "\n",
      "\n",
      "dVr_dLi:\n",
      "\n"
     ]
    },
    {
     "data": {
      "image/png": "[encoded data removed]",
      "text/latex": [
       "$\\displaystyle - \\frac{Q}{V_{i}^{2} + V_{r}^{2}} - \\frac{2 V_{r} \\left(- Q V_{r} + V_{i} self.P\\right)}{\\left(V_{i}^{2} + V_{r}^{2}\\right)^{2}}$"
      ],
      "text/plain": [
       "      Q       2⋅Vᵣ⋅(-Q⋅Vᵣ + Vᵢ⋅self.P)\n",
       "- ───────── - ────────────────────────\n",
       "    2     2                    2      \n",
       "  Vᵢ  + Vᵣ          ⎛  2     2⎞       \n",
       "                    ⎝Vᵢ  + Vᵣ ⎠       "
      ]
     },
     "metadata": {},
     "output_type": "display_data"
    },
    {
     "name": "stdout",
     "output_type": "stream",
     "text": [
      "-Q/(V_i**2 + V_r**2) - 2*V_r*(-Q*V_r + V_i*self.P)/(V_i**2 + V_r**2)**2\n",
      "\n",
      "\n",
      "dVr_dLQ:\n",
      "\n"
     ]
    },
    {
     "data": {
      "image/png": "[encoded data removed]",
      "text/latex": [
       "$\\displaystyle - 2 V_{r}$"
      ],
      "text/plain": [
       "-2⋅Vᵣ"
      ]
     },
     "metadata": {},
     "output_type": "display_data"
    },
    {
     "name": "stdout",
     "output_type": "stream",
     "text": [
      "-2*V_r\n"
     ]
    }
   ],
   "source": [
    "dVr = diff(lagrange, Vr)\n",
    "print(\"dVr:\\n\")\n",
    "disp.display(dVr)\n",
    "print(dVr)\n",
    "print(\"\\n\")\n",
    "\n",
    "dVr_dVr = diff(dVr, Vr)\n",
    "dVr_dVi = diff(dVr, Vi)\n",
    "dVr_dQ = diff(dVr, Q)\n",
    "dVr_dLr = diff(dVr, Lr)\n",
    "dVr_dLi = diff(dVr, Li)\n",
    "dVr_dLQ = diff(dVr, LQ)\n",
    "\n",
    "print(\"dVr_dVr:\\n\")\n",
    "disp.display(dVr_dVr)\n",
    "print(dVr_dVr)\n",
    "print(\"\\n\")\n",
    "print(\"dVr_dVi:\\n\")\n",
    "disp.display(dVr_dVi)\n",
    "print(dVr_dVi)\n",
    "print(\"\\n\")\n",
    "print(\"dVr_dQ:\\n\")\n",
    "disp.display(dVr_dQ)\n",
    "print(dVr_dQ)\n",
    "print(\"\\n\")\n",
    "print(\"dVr_dLr:\\n\")\n",
    "disp.display(dVr_dLr)\n",
    "print(dVr_dLr)\n",
    "print(\"\\n\")\n",
    "print(\"dVr_dLi:\\n\")\n",
    "disp.display(dVr_dLi)\n",
    "print(dVr_dLi)\n",
    "print(\"\\n\")\n",
    "print(\"dVr_dLQ:\\n\")\n",
    "disp.display(dVr_dLQ)\n",
    "print(dVr_dLQ)"
   ]
  }
 ],
 "metadata": {
  "interpreter": {
   "hash": "e7370f93d1d0cde622a1f8e1c04877d8463912d04d973331ad4851f04de6915a"
  },
  "kernelspec": {
   "display_name": "Python 3.8.10 64-bit",
   "language": "python",
   "name": "python3"
  },
  "language_info": {
   "codemirror_mode": {
    "name": "ipython",
    "version": 3
   },
   "file_extension": ".py",
   "mimetype": "text/x-python",
   "name": "python",
   "nbconvert_exporter": "python",
   "pygments_lexer": "ipython3",
   "version": "3.8.10"
  },
  "orig_nbformat": 4
 },
 "nbformat": 4,
 "nbformat_minor": 2
}
