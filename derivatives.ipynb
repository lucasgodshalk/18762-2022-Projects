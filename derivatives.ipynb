{
 "cells": [
  {
   "cell_type": "code",
   "execution_count": null,
   "metadata": {},
   "outputs": [],
   "source": [
    "from sympy import *\n",
    "import numpy as np\n",
    "import IPython.display as disp"
   ]
  },
  {
   "cell_type": "markdown",
   "metadata": {},
   "source": [
    "# Slack"
   ]
  },
  {
   "cell_type": "code",
   "execution_count": null,
   "metadata": {},
   "outputs": [],
   "source": [
    "[Vrset, Viset] = symbols(\"Vrset Viset\")\n",
    "\n",
    "variables = [Vr, Vi, Isr, Isi] = symbols(\"Vr Vi Isr Isi\")\n",
    "\n",
    "lambdas = [Lr, Li, Lsr, Lsi] = symbols(\"lambda_Vr lambda_Vi lambda_Sr lambda_Si\")\n",
    "\n",
    "eqns = [\n",
    "    Isr,\n",
    "    Isi,\n",
    "    Vr - Vrset,\n",
    "    Vi - Viset,\n",
    "]\n",
    "\n",
    "lagrange = np.dot(lambdas, eqns)\n",
    "\n",
    "print(\"Lagrange:\")\n",
    "disp.display(lagrange)\n",
    "\n",
    "print(\"Derivatives:\")\n",
    "\n",
    "for variable in variables:\n",
    "    print(f'd{variable}:')\n",
    "    disp.display(diff(lagrange, variable))\n"
   ]
  },
  {
   "cell_type": "markdown",
   "metadata": {},
   "source": [
    "# Infeasibility"
   ]
  },
  {
   "cell_type": "code",
   "execution_count": null,
   "metadata": {},
   "outputs": [],
   "source": [
    "variables = [Iir, Iii] = symbols(\"Iir Iii\")\n",
    "\n",
    "lambdas = [Lr, Li] = symbols(\"lambda_Vr lambda_Vi\")\n",
    "\n",
    "lagrange = Iir ** 2 + Iii ** 2 + Iir * Lr + Iii * Li\n",
    "\n",
    "print(\"Lagrange:\")\n",
    "disp.display(lagrange)\n",
    "\n",
    "print(\"Derivatives:\")\n",
    "\n",
    "for variable in variables + lambdas:\n",
    "    print(f'd{variable}:')\n",
    "    disp.display(diff(lagrange, variable))"
   ]
  },
  {
   "cell_type": "markdown",
   "metadata": {},
   "source": [
    "# Transformer"
   ]
  },
  {
   "cell_type": "code",
   "execution_count": null,
   "metadata": {},
   "outputs": [],
   "source": [
    "\n",
    "trcos, trsin = symbols('trcos trsin')\n",
    "variables = [Vbr, Vbi, Ir, Ii, Vr, Vi] = symbols('V_br V_bi I_r I_i V_r V_i')\n",
    "lambdas = [Lbr, Lbi, Lir, Lii, Lvr, Lvi] = symbols('lambda_br lambda_bi lambda_ir lambda_ii lambda_vr lambda_vi')\n",
    "\n",
    "eqns = [\n",
    "    Ir,\n",
    "    Ii,\n",
    "    Vbr - trcos * Vr + trsin * Vi,\n",
    "    Vbi - trcos * Vi - trsin * Vr,\n",
    "    -trcos * Ir - trsin * Ii,\n",
    "    -trcos * Ii + trsin * Ir\n",
    "]\n",
    "\n",
    "lagrange = np.dot(lambdas, eqns)\n",
    "\n",
    "print(\"Lagrange:\")\n",
    "disp.display(lagrange)\n",
    "\n",
    "print(\"Derivatives:\")\n",
    "\n",
    "for variable in variables:\n",
    "    print(f'{variable}:')\n",
    "    disp.display(diff(lagrange, variable))\n"
   ]
  },
  {
   "cell_type": "markdown",
   "metadata": {},
   "source": [
    "# Load"
   ]
  },
  {
   "cell_type": "code",
   "execution_count": null,
   "metadata": {},
   "outputs": [],
   "source": [
    "\n",
    "P, Q = symbols('self.P self.Q')\n",
    "variables = [Vr, Vi] = symbols('V_r V_i')\n",
    "lambdas = [Lr, Li] = symbols('lambda_r lambda_i')\n",
    "\n",
    "Ir = (P * Vr + Q * Vi) / (Vr ** 2 + Vi ** 2)\n",
    "Ii = (P * Vi - Q * Vr) / (Vr ** 2 + Vi ** 2)\n",
    "\n",
    "lagrange = Lr * Ir + Li * Ii\n",
    "\n",
    "print(\"Lagrange:\")\n",
    "disp.display(lagrange)"
   ]
  },
  {
   "cell_type": "markdown",
   "metadata": {},
   "source": [
    "### Real Portion"
   ]
  },
  {
   "cell_type": "code",
   "execution_count": null,
   "metadata": {},
   "outputs": [],
   "source": [
    "dVr = diff(lagrange, Vr)\n",
    "print(\"dVr:\\n\")\n",
    "disp.display(dVr)\n",
    "print(dVr)\n",
    "print(\"\\n\")\n",
    "\n",
    "dVr_dVr = diff(dVr, Vr)\n",
    "dVr_dVi = diff(dVr, Vi)\n",
    "dVr_dLr = diff(dVr, Lr)\n",
    "dVr_dLi = diff(dVr, Li)\n",
    "\n",
    "print(\"dVr_dVr:\\n\")\n",
    "disp.display(dVr_dVr)\n",
    "print(dVr_dVr)\n",
    "print(\"\\n\")\n",
    "print(\"dVr_dVi:\\n\")\n",
    "disp.display(dVr_dVi)\n",
    "print(dVr_dVi)\n",
    "print(\"\\n\")\n",
    "print(\"dVr_dLr:\\n\")\n",
    "disp.display(dVr_dLr)\n",
    "print(dVr_dLr)\n",
    "print(\"\\n\")\n",
    "print(\"dVr_dLi:\\n\")\n",
    "disp.display(dVr_dLi)\n",
    "print(dVr_dLi)"
   ]
  },
  {
   "cell_type": "markdown",
   "metadata": {},
   "source": [
    "### Imaginary Portion"
   ]
  },
  {
   "cell_type": "code",
   "execution_count": null,
   "metadata": {},
   "outputs": [],
   "source": [
    "dVi = diff(lagrange, Vi)\n",
    "print(\"dVi:\\n\")\n",
    "disp.display(dVi)\n",
    "print(dVi)\n",
    "print(\"\\n\")\n",
    "\n",
    "dVi_dVr = diff(dVi, Vr)\n",
    "dVi_dVi = diff(dVi, Vi)\n",
    "dVi_dLr = diff(dVi, Lr)\n",
    "dVi_dLi = diff(dVi, Li)\n",
    "\n",
    "print(\"dVi_dVr:\\n\")\n",
    "disp.display(dVi_dVr)\n",
    "print(dVi_dVr)\n",
    "print(\"\\n\")\n",
    "print(\"dVi_dVi:\\n\")\n",
    "disp.display(dVi_dVi)\n",
    "print(dVi_dVi)\n",
    "print(\"\\n\")\n",
    "print(\"dVi_dLr:\\n\")\n",
    "disp.display(dVi_dLr)\n",
    "print(dVi_dLr)\n",
    "print(\"\\n\")\n",
    "print(\"dVi_dLi:\\n\")\n",
    "disp.display(dVi_dLi)\n",
    "print(dVi_dLi)"
   ]
  },
  {
   "cell_type": "markdown",
   "metadata": {},
   "source": [
    "# Generator"
   ]
  },
  {
   "cell_type": "code",
   "execution_count": null,
   "metadata": {},
   "outputs": [],
   "source": [
    "P, Vset = symbols('self.P self.Vset')\n",
    "variables = [Vr, Vi, Q] = symbols('V_r V_i Q')\n",
    "lambdas = [Lr, Li, LQ] = symbols('lambda_r lambda_i lambda_Q')\n",
    "\n",
    "Ir = (P * Vr + Q * Vi) / (Vr ** 2 + Vi ** 2)\n",
    "Ii = (P * Vi - Q * Vr) / (Vr ** 2 + Vi ** 2)\n",
    "Q_k = Vset ** 2 - Vr ** 2 - Vi ** 2\n",
    "\n",
    "lagrange = Lr * Ir + Li * Ii + Q_k * LQ\n",
    "\n",
    "print(\"Lagrange:\")\n",
    "disp.display(lagrange)"
   ]
  },
  {
   "cell_type": "markdown",
   "metadata": {},
   "source": [
    "### Real Portion"
   ]
  },
  {
   "cell_type": "code",
   "execution_count": null,
   "metadata": {},
   "outputs": [],
   "source": [
    "dVr = diff(lagrange, Vr)\n",
    "print(\"dVr:\\n\")\n",
    "disp.display(dVr)\n",
    "print(dVr)\n",
    "print(\"\\n\")\n",
    "\n",
    "dVr_dVr = diff(dVr, Vr)\n",
    "dVr_dVi = diff(dVr, Vi)\n",
    "dVr_dQ = diff(dVr, Q)\n",
    "dVr_dLr = diff(dVr, Lr)\n",
    "dVr_dLi = diff(dVr, Li)\n",
    "dVr_dLQ = diff(dVr, LQ)\n",
    "\n",
    "print(\"dVr_dVr:\\n\")\n",
    "disp.display(dVr_dVr)\n",
    "print(dVr_dVr)\n",
    "print(\"\\n\")\n",
    "print(\"dVr_dVi:\\n\")\n",
    "disp.display(dVr_dVi)\n",
    "print(dVr_dVi)\n",
    "print(\"\\n\")\n",
    "print(\"dVr_dQ:\\n\")\n",
    "disp.display(dVr_dQ)\n",
    "print(dVr_dQ)\n",
    "print(\"\\n\")\n",
    "print(\"dVr_dLr:\\n\")\n",
    "disp.display(dVr_dLr)\n",
    "print(dVr_dLr)\n",
    "print(\"\\n\")\n",
    "print(\"dVr_dLi:\\n\")\n",
    "disp.display(dVr_dLi)\n",
    "print(dVr_dLi)\n",
    "print(\"\\n\")\n",
    "print(\"dVr_dLQ:\\n\")\n",
    "disp.display(dVr_dLQ)\n",
    "print(dVr_dLQ)"
   ]
  },
  {
   "cell_type": "markdown",
   "metadata": {},
   "source": [
    "### Imaginary Portion"
   ]
  },
  {
   "cell_type": "code",
   "execution_count": null,
   "metadata": {},
   "outputs": [],
   "source": [
    "dVi = diff(lagrange, Vi)\n",
    "print(\"dVi:\\n\")\n",
    "disp.display(dVi)\n",
    "print(dVi)\n",
    "print(\"\\n\")\n",
    "\n",
    "dVi_dVr = diff(dVi, Vr)\n",
    "dVi_dVi = diff(dVi, Vi)\n",
    "dVi_dQ = diff(dVi, Q)\n",
    "dVi_dLr = diff(dVi, Lr)\n",
    "dVi_dLi = diff(dVi, Li)\n",
    "dVi_dLQ = diff(dVi, LQ)\n",
    "\n",
    "print(\"dVi_dVr:\\n\")\n",
    "disp.display(dVi_dVr)\n",
    "print(dVi_dVr)\n",
    "print(\"\\n\")\n",
    "print(\"dVi_dVi:\\n\")\n",
    "disp.display(dVi_dVi)\n",
    "print(dVi_dVi)\n",
    "print(\"\\n\")\n",
    "print(\"dVi_dQ:\\n\")\n",
    "disp.display(dVi_dQ)\n",
    "print(dVi_dQ)\n",
    "print(\"\\n\")\n",
    "print(\"dVi_dLr:\\n\")\n",
    "disp.display(dVi_dLr)\n",
    "print(dVi_dLr)\n",
    "print(\"\\n\")\n",
    "print(\"dVi_dLi:\\n\")\n",
    "disp.display(dVi_dLi)\n",
    "print(dVi_dLi)\n",
    "print(\"\\n\")\n",
    "print(\"dVi_dLQ:\\n\")\n",
    "disp.display(dVi_dLQ)\n",
    "print(dVi_dLQ)"
   ]
  },
  {
   "cell_type": "markdown",
   "metadata": {},
   "source": [
    "### Q Portion"
   ]
  },
  {
   "cell_type": "code",
   "execution_count": null,
   "metadata": {},
   "outputs": [],
   "source": [
    "dQ = diff(lagrange, Q)\n",
    "print(\"dQ:\\n\")\n",
    "disp.display(dQ)\n",
    "print(dQ)\n",
    "print(\"\\n\")\n",
    "\n",
    "dQ_dVr = diff(dQ, Vr)\n",
    "dQ_dVi = diff(dQ, Vi)\n",
    "dQ_dQ = diff(dQ, Q)\n",
    "dQ_dLr = diff(dQ, Lr)\n",
    "dQ_dLi = diff(dQ, Li)\n",
    "dQ_dLQ = diff(dQ, LQ)\n",
    "\n",
    "print(\"dQ_dVr:\\n\")\n",
    "disp.display(dQ_dVr)\n",
    "print(dQ_dVr)\n",
    "print(\"\\n\")\n",
    "print(\"dQ_dVi:\\n\")\n",
    "disp.display(dQ_dVi)\n",
    "print(dQ_dVi)\n",
    "print(\"\\n\")\n",
    "print(\"dQ_dQ:\\n\")\n",
    "disp.display(dQ_dQ)\n",
    "print(dQ_dQ)\n",
    "print(\"\\n\")\n",
    "print(\"dQ_dLr:\\n\")\n",
    "disp.display(dQ_dLr)\n",
    "print(dQ_dLr)\n",
    "print(\"\\n\")\n",
    "print(\"dQ_dLi:\\n\")\n",
    "disp.display(dQ_dLi)\n",
    "print(dQ_dLi)\n",
    "print(\"\\n\")\n",
    "print(\"dQ_dLQ:\\n\")\n",
    "disp.display(dQ_dLQ)\n",
    "print(dQ_dLQ)"
   ]
  }
 ],
 "metadata": {
  "interpreter": {
   "hash": "e7370f93d1d0cde622a1f8e1c04877d8463912d04d973331ad4851f04de6915a"
  },
  "kernelspec": {
   "display_name": "Python 3.8.10 64-bit",
   "language": "python",
   "name": "python3"
  },
  "language_info": {
   "codemirror_mode": {
    "name": "ipython",
    "version": 3
   },
   "file_extension": ".py",
   "mimetype": "text/x-python",
   "name": "python",
   "nbconvert_exporter": "python",
   "pygments_lexer": "ipython3",
   "version": "3.8.10"
  },
  "orig_nbformat": 4
 },
 "nbformat": 4,
 "nbformat_minor": 2
}
