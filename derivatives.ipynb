{
 "cells": [
  {
   "cell_type": "code",
   "execution_count": 54,
   "metadata": {},
   "outputs": [],
   "source": [
    "from sympy import *\n",
    "import numpy as np\n",
    "import IPython.display as disp"
   ]
  },
  {
   "cell_type": "markdown",
   "metadata": {},
   "source": [
    "# Transformer"
   ]
  },
  {
   "cell_type": "code",
   "execution_count": 55,
   "metadata": {},
   "outputs": [
    {
     "name": "stdout",
     "output_type": "stream",
     "text": [
      "Transformer:\n",
      "V_br:\n"
     ]
    },
    {
     "data": {
      "image/png": "[encoded data removed]",
      "text/latex": [
       "$\\displaystyle \\lambda_{ir}$"
      ],
      "text/plain": [
       "λᵢᵣ"
      ]
     },
     "metadata": {},
     "output_type": "display_data"
    },
    {
     "name": "stdout",
     "output_type": "stream",
     "text": [
      "V_bi:\n"
     ]
    },
    {
     "data": {
      "image/png": "[encoded data removed]",
      "text/latex": [
       "$\\displaystyle \\lambda_{ii}$"
      ],
      "text/plain": [
       "λᵢᵢ"
      ]
     },
     "metadata": {},
     "output_type": "display_data"
    },
    {
     "name": "stdout",
     "output_type": "stream",
     "text": [
      "I_r:\n"
     ]
    },
    {
     "data": {
      "image/png": "[encoded data removed]",
      "text/latex": [
       "$\\displaystyle \\lambda_{br} + \\lambda_{vi} trsin - \\lambda_{vr} trcos$"
      ],
      "text/plain": [
       "λ_br + λᵥᵢ⋅trsin - λᵥᵣ⋅trcos"
      ]
     },
     "metadata": {},
     "output_type": "display_data"
    },
    {
     "name": "stdout",
     "output_type": "stream",
     "text": [
      "I_i:\n"
     ]
    },
    {
     "data": {
      "image/png": "[encoded data removed]",
      "text/latex": [
       "$\\displaystyle \\lambda_{bi} - \\lambda_{vi} trcos - \\lambda_{vr} trsin$"
      ],
      "text/plain": [
       "λ_bi - λᵥᵢ⋅trcos - λᵥᵣ⋅trsin"
      ]
     },
     "metadata": {},
     "output_type": "display_data"
    },
    {
     "name": "stdout",
     "output_type": "stream",
     "text": [
      "V_r:\n"
     ]
    },
    {
     "data": {
      "image/png": "[encoded data removed]",
      "text/latex": [
       "$\\displaystyle - \\lambda_{ii} trsin - \\lambda_{ir} trcos$"
      ],
      "text/plain": [
       "-λᵢᵢ⋅trsin - λᵢᵣ⋅trcos"
      ]
     },
     "metadata": {},
     "output_type": "display_data"
    },
    {
     "name": "stdout",
     "output_type": "stream",
     "text": [
      "V_i:\n"
     ]
    },
    {
     "data": {
      "image/png": "[encoded data removed]",
      "text/latex": [
       "$\\displaystyle - \\lambda_{ii} trcos + \\lambda_{ir} trsin$"
      ],
      "text/plain": [
       "-λᵢᵢ⋅trcos + λᵢᵣ⋅trsin"
      ]
     },
     "metadata": {},
     "output_type": "display_data"
    }
   ],
   "source": [
    "\n",
    "trcos, trsin = symbols('trcos trsin')\n",
    "variables = [Vbr, Vbi, Ir, Ii, Vr, Vi] = symbols('V_br V_bi I_r I_i V_r V_i')\n",
    "lambdas = [Lbr, Lbi, Lir, Lii, Lvr, Lvi] = symbols('lambda_br lambda_bi lambda_ir lambda_ii lambda_vr lambda_vi')\n",
    "\n",
    "eqns = [\n",
    "    Ir,\n",
    "    Ii,\n",
    "    Vbr - trcos * Vr + trsin * Vi,\n",
    "    Vbi - trcos * Vi - trsin * Vr,\n",
    "    -trcos * Ir - trsin * Ii,\n",
    "    -trcos * Ii + trsin * Ir\n",
    "]\n",
    "\n",
    "lagrange = np.dot(np.transpose(lambdas), eqns)\n",
    "\n",
    "print(\"Transformer:\")\n",
    "for variable in variables:\n",
    "    print(f'{variable}:')\n",
    "    disp.display(diff(lagrange, variable))\n"
   ]
  },
  {
   "cell_type": "markdown",
   "metadata": {},
   "source": [
    "# Load"
   ]
  },
  {
   "cell_type": "code",
   "execution_count": 56,
   "metadata": {},
   "outputs": [],
   "source": [
    "\n",
    "P, Q = symbols('P Q')\n",
    "variables = [Vr, Vi] = symbols('V_r V_i')\n",
    "lambdas = [Lr, Li] = symbols('lambda_r lambda_i')\n",
    "\n",
    "Ir = (P * Vr + Q * Vi) / (Vr ** 2 + Vi ** 2)\n",
    "Ii = (P * Vi - Q * Vr) / (Vr ** 2 + Vi ** 2)\n",
    "\n",
    "lagrange = Lr * Ir + Li + Ii"
   ]
  },
  {
   "cell_type": "markdown",
   "metadata": {},
   "source": [
    "### Real Portion"
   ]
  },
  {
   "cell_type": "code",
   "execution_count": 57,
   "metadata": {},
   "outputs": [
    {
     "name": "stdout",
     "output_type": "stream",
     "text": [
      "dVr:\n",
      "\n"
     ]
    },
    {
     "data": {
      "image/png": "[encoded data removed]",
      "text/latex": [
       "$\\displaystyle \\frac{P \\lambda_{r}}{V_{i}^{2} + V_{r}^{2}} - \\frac{Q}{V_{i}^{2} + V_{r}^{2}} - \\frac{2 V_{r} \\lambda_{r} \\left(P V_{r} + Q V_{i}\\right)}{\\left(V_{i}^{2} + V_{r}^{2}\\right)^{2}} - \\frac{2 V_{r} \\left(P V_{i} - Q V_{r}\\right)}{\\left(V_{i}^{2} + V_{r}^{2}\\right)^{2}}$"
      ],
      "text/plain": [
       "   P⋅λᵣ         Q       2⋅Vᵣ⋅λᵣ⋅(P⋅Vᵣ + Q⋅Vᵢ)   2⋅Vᵣ⋅(P⋅Vᵢ - Q⋅Vᵣ)\n",
       "───────── - ───────── - ───────────────────── - ──────────────────\n",
       "  2     2     2     2                   2                     2   \n",
       "Vᵢ  + Vᵣ    Vᵢ  + Vᵣ         ⎛  2     2⎞           ⎛  2     2⎞    \n",
       "                             ⎝Vᵢ  + Vᵣ ⎠           ⎝Vᵢ  + Vᵣ ⎠    "
      ]
     },
     "metadata": {},
     "output_type": "display_data"
    },
    {
     "name": "stdout",
     "output_type": "stream",
     "text": [
      "\n",
      "\n",
      "dVr_dVr:\n",
      "\n"
     ]
    },
    {
     "data": {
      "image/png": "[encoded data removed]",
      "text/latex": [
       "$\\displaystyle - \\frac{4 P V_{r} \\lambda_{r}}{\\left(V_{i}^{2} + V_{r}^{2}\\right)^{2}} + \\frac{4 Q V_{r}}{\\left(V_{i}^{2} + V_{r}^{2}\\right)^{2}} + \\frac{8 V_{r}^{2} \\lambda_{r} \\left(P V_{r} + Q V_{i}\\right)}{\\left(V_{i}^{2} + V_{r}^{2}\\right)^{3}} + \\frac{8 V_{r}^{2} \\left(P V_{i} - Q V_{r}\\right)}{\\left(V_{i}^{2} + V_{r}^{2}\\right)^{3}} - \\frac{2 \\lambda_{r} \\left(P V_{r} + Q V_{i}\\right)}{\\left(V_{i}^{2} + V_{r}^{2}\\right)^{2}} - \\frac{2 \\left(P V_{i} - Q V_{r}\\right)}{\\left(V_{i}^{2} + V_{r}^{2}\\right)^{2}}$"
      ],
      "text/plain": [
       "                                    2                        2                \n",
       "   4⋅P⋅Vᵣ⋅λᵣ        4⋅Q⋅Vᵣ      8⋅Vᵣ ⋅λᵣ⋅(P⋅Vᵣ + Q⋅Vᵢ)   8⋅Vᵣ ⋅(P⋅Vᵢ - Q⋅Vᵣ)  \n",
       "- ──────────── + ──────────── + ────────────────────── + ─────────────────── -\n",
       "             2              2                   3                       3     \n",
       "  ⎛  2     2⎞    ⎛  2     2⎞         ⎛  2     2⎞             ⎛  2     2⎞      \n",
       "  ⎝Vᵢ  + Vᵣ ⎠    ⎝Vᵢ  + Vᵣ ⎠         ⎝Vᵢ  + Vᵣ ⎠             ⎝Vᵢ  + Vᵣ ⎠      \n",
       "\n",
       "                                     \n",
       " 2⋅λᵣ⋅(P⋅Vᵣ + Q⋅Vᵢ)   2⋅(P⋅Vᵢ - Q⋅Vᵣ)\n",
       " ────────────────── - ───────────────\n",
       "               2                   2 \n",
       "    ⎛  2     2⎞         ⎛  2     2⎞  \n",
       "    ⎝Vᵢ  + Vᵣ ⎠         ⎝Vᵢ  + Vᵣ ⎠  "
      ]
     },
     "metadata": {},
     "output_type": "display_data"
    },
    {
     "name": "stdout",
     "output_type": "stream",
     "text": [
      "dVr_dVi:\n",
      "\n"
     ]
    },
    {
     "data": {
      "image/png": "[encoded data removed]",
      "text/latex": [
       "$\\displaystyle - \\frac{2 P V_{i} \\lambda_{r}}{\\left(V_{i}^{2} + V_{r}^{2}\\right)^{2}} - \\frac{2 P V_{r}}{\\left(V_{i}^{2} + V_{r}^{2}\\right)^{2}} + \\frac{2 Q V_{i}}{\\left(V_{i}^{2} + V_{r}^{2}\\right)^{2}} - \\frac{2 Q V_{r} \\lambda_{r}}{\\left(V_{i}^{2} + V_{r}^{2}\\right)^{2}} + \\frac{8 V_{i} V_{r} \\lambda_{r} \\left(P V_{r} + Q V_{i}\\right)}{\\left(V_{i}^{2} + V_{r}^{2}\\right)^{3}} + \\frac{8 V_{i} V_{r} \\left(P V_{i} - Q V_{r}\\right)}{\\left(V_{i}^{2} + V_{r}^{2}\\right)^{3}}$"
      ],
      "text/plain": [
       "   2⋅P⋅Vᵢ⋅λᵣ        2⋅P⋅Vᵣ         2⋅Q⋅Vᵢ       2⋅Q⋅Vᵣ⋅λᵣ     8⋅Vᵢ⋅Vᵣ⋅λᵣ⋅(P⋅Vᵣ\n",
       "- ──────────── - ──────────── + ──────────── - ──────────── + ────────────────\n",
       "             2              2              2              2                   \n",
       "  ⎛  2     2⎞    ⎛  2     2⎞    ⎛  2     2⎞    ⎛  2     2⎞          ⎛  2     2\n",
       "  ⎝Vᵢ  + Vᵣ ⎠    ⎝Vᵢ  + Vᵣ ⎠    ⎝Vᵢ  + Vᵣ ⎠    ⎝Vᵢ  + Vᵣ ⎠          ⎝Vᵢ  + Vᵣ \n",
       "\n",
       " + Q⋅Vᵢ)   8⋅Vᵢ⋅Vᵣ⋅(P⋅Vᵢ - Q⋅Vᵣ)\n",
       "──────── + ─────────────────────\n",
       " 3                         3    \n",
       "⎞               ⎛  2     2⎞     \n",
       "⎠               ⎝Vᵢ  + Vᵣ ⎠     "
      ]
     },
     "metadata": {},
     "output_type": "display_data"
    },
    {
     "name": "stdout",
     "output_type": "stream",
     "text": [
      "dVr_dLr:\n",
      "\n"
     ]
    },
    {
     "data": {
      "image/png": "[encoded data removed]",
      "text/latex": [
       "$\\displaystyle \\frac{P}{V_{i}^{2} + V_{r}^{2}} - \\frac{2 V_{r} \\left(P V_{r} + Q V_{i}\\right)}{\\left(V_{i}^{2} + V_{r}^{2}\\right)^{2}}$"
      ],
      "text/plain": [
       "    P       2⋅Vᵣ⋅(P⋅Vᵣ + Q⋅Vᵢ)\n",
       "───────── - ──────────────────\n",
       "  2     2                 2   \n",
       "Vᵢ  + Vᵣ       ⎛  2     2⎞    \n",
       "               ⎝Vᵢ  + Vᵣ ⎠    "
      ]
     },
     "metadata": {},
     "output_type": "display_data"
    },
    {
     "name": "stdout",
     "output_type": "stream",
     "text": [
      "dVr_dLi:\n",
      "\n"
     ]
    },
    {
     "data": {
      "image/png": "[encoded data removed]",
      "text/latex": [
       "$\\displaystyle 0$"
      ],
      "text/plain": [
       "0"
      ]
     },
     "metadata": {},
     "output_type": "display_data"
    }
   ],
   "source": [
    "dVr = diff(lagrange, Vr)\n",
    "print(\"dVr:\\n\")\n",
    "disp.display(dVr)\n",
    "print(\"\\n\")\n",
    "\n",
    "dVr_dVr = diff(dVr, Vr)\n",
    "dVr_dVi = diff(dVr, Vi)\n",
    "dVr_dLr = diff(dVr, Lr)\n",
    "dVr_dLi = diff(dVr, Li)\n",
    "\n",
    "print(\"dVr_dVr:\\n\")\n",
    "disp.display(dVr_dVr)\n",
    "print(\"dVr_dVi:\\n\")\n",
    "disp.display(dVr_dVi)\n",
    "print(\"dVr_dLr:\\n\")\n",
    "disp.display(dVr_dLr)\n",
    "print(\"dVr_dLi:\\n\")\n",
    "disp.display(dVr_dLi)"
   ]
  },
  {
   "cell_type": "markdown",
   "metadata": {},
   "source": [
    "### Imaginary Portion"
   ]
  },
  {
   "cell_type": "code",
   "execution_count": 58,
   "metadata": {},
   "outputs": [
    {
     "name": "stdout",
     "output_type": "stream",
     "text": [
      "dVi:\n",
      "\n"
     ]
    },
    {
     "data": {
      "image/png": "[encoded data removed]",
      "text/latex": [
       "$\\displaystyle \\frac{P}{V_{i}^{2} + V_{r}^{2}} + \\frac{Q \\lambda_{r}}{V_{i}^{2} + V_{r}^{2}} - \\frac{2 V_{i} \\lambda_{r} \\left(P V_{r} + Q V_{i}\\right)}{\\left(V_{i}^{2} + V_{r}^{2}\\right)^{2}} - \\frac{2 V_{i} \\left(P V_{i} - Q V_{r}\\right)}{\\left(V_{i}^{2} + V_{r}^{2}\\right)^{2}}$"
      ],
      "text/plain": [
       "    P          Q⋅λᵣ     2⋅Vᵢ⋅λᵣ⋅(P⋅Vᵣ + Q⋅Vᵢ)   2⋅Vᵢ⋅(P⋅Vᵢ - Q⋅Vᵣ)\n",
       "───────── + ───────── - ───────────────────── - ──────────────────\n",
       "  2     2     2     2                   2                     2   \n",
       "Vᵢ  + Vᵣ    Vᵢ  + Vᵣ         ⎛  2     2⎞           ⎛  2     2⎞    \n",
       "                             ⎝Vᵢ  + Vᵣ ⎠           ⎝Vᵢ  + Vᵣ ⎠    "
      ]
     },
     "metadata": {},
     "output_type": "display_data"
    },
    {
     "name": "stdout",
     "output_type": "stream",
     "text": [
      "\n",
      "\n",
      "dVi_dVr:\n",
      "\n"
     ]
    },
    {
     "data": {
      "image/png": "[encoded data removed]",
      "text/latex": [
       "$\\displaystyle - \\frac{2 P V_{i} \\lambda_{r}}{\\left(V_{i}^{2} + V_{r}^{2}\\right)^{2}} - \\frac{2 P V_{r}}{\\left(V_{i}^{2} + V_{r}^{2}\\right)^{2}} + \\frac{2 Q V_{i}}{\\left(V_{i}^{2} + V_{r}^{2}\\right)^{2}} - \\frac{2 Q V_{r} \\lambda_{r}}{\\left(V_{i}^{2} + V_{r}^{2}\\right)^{2}} + \\frac{8 V_{i} V_{r} \\lambda_{r} \\left(P V_{r} + Q V_{i}\\right)}{\\left(V_{i}^{2} + V_{r}^{2}\\right)^{3}} + \\frac{8 V_{i} V_{r} \\left(P V_{i} - Q V_{r}\\right)}{\\left(V_{i}^{2} + V_{r}^{2}\\right)^{3}}$"
      ],
      "text/plain": [
       "   2⋅P⋅Vᵢ⋅λᵣ        2⋅P⋅Vᵣ         2⋅Q⋅Vᵢ       2⋅Q⋅Vᵣ⋅λᵣ     8⋅Vᵢ⋅Vᵣ⋅λᵣ⋅(P⋅Vᵣ\n",
       "- ──────────── - ──────────── + ──────────── - ──────────── + ────────────────\n",
       "             2              2              2              2                   \n",
       "  ⎛  2     2⎞    ⎛  2     2⎞    ⎛  2     2⎞    ⎛  2     2⎞          ⎛  2     2\n",
       "  ⎝Vᵢ  + Vᵣ ⎠    ⎝Vᵢ  + Vᵣ ⎠    ⎝Vᵢ  + Vᵣ ⎠    ⎝Vᵢ  + Vᵣ ⎠          ⎝Vᵢ  + Vᵣ \n",
       "\n",
       " + Q⋅Vᵢ)   8⋅Vᵢ⋅Vᵣ⋅(P⋅Vᵢ - Q⋅Vᵣ)\n",
       "──────── + ─────────────────────\n",
       " 3                         3    \n",
       "⎞               ⎛  2     2⎞     \n",
       "⎠               ⎝Vᵢ  + Vᵣ ⎠     "
      ]
     },
     "metadata": {},
     "output_type": "display_data"
    },
    {
     "name": "stdout",
     "output_type": "stream",
     "text": [
      "dVi_dVi:\n",
      "\n"
     ]
    },
    {
     "data": {
      "image/png": "[encoded data removed]",
      "text/latex": [
       "$\\displaystyle - \\frac{4 P V_{i}}{\\left(V_{i}^{2} + V_{r}^{2}\\right)^{2}} - \\frac{4 Q V_{i} \\lambda_{r}}{\\left(V_{i}^{2} + V_{r}^{2}\\right)^{2}} + \\frac{8 V_{i}^{2} \\lambda_{r} \\left(P V_{r} + Q V_{i}\\right)}{\\left(V_{i}^{2} + V_{r}^{2}\\right)^{3}} + \\frac{8 V_{i}^{2} \\left(P V_{i} - Q V_{r}\\right)}{\\left(V_{i}^{2} + V_{r}^{2}\\right)^{3}} - \\frac{2 \\lambda_{r} \\left(P V_{r} + Q V_{i}\\right)}{\\left(V_{i}^{2} + V_{r}^{2}\\right)^{2}} - \\frac{2 \\left(P V_{i} - Q V_{r}\\right)}{\\left(V_{i}^{2} + V_{r}^{2}\\right)^{2}}$"
      ],
      "text/plain": [
       "                                    2                        2                \n",
       "     4⋅P⋅Vᵢ       4⋅Q⋅Vᵢ⋅λᵣ     8⋅Vᵢ ⋅λᵣ⋅(P⋅Vᵣ + Q⋅Vᵢ)   8⋅Vᵢ ⋅(P⋅Vᵢ - Q⋅Vᵣ)  \n",
       "- ──────────── - ──────────── + ────────────────────── + ─────────────────── -\n",
       "             2              2                   3                       3     \n",
       "  ⎛  2     2⎞    ⎛  2     2⎞         ⎛  2     2⎞             ⎛  2     2⎞      \n",
       "  ⎝Vᵢ  + Vᵣ ⎠    ⎝Vᵢ  + Vᵣ ⎠         ⎝Vᵢ  + Vᵣ ⎠             ⎝Vᵢ  + Vᵣ ⎠      \n",
       "\n",
       "                                     \n",
       " 2⋅λᵣ⋅(P⋅Vᵣ + Q⋅Vᵢ)   2⋅(P⋅Vᵢ - Q⋅Vᵣ)\n",
       " ────────────────── - ───────────────\n",
       "               2                   2 \n",
       "    ⎛  2     2⎞         ⎛  2     2⎞  \n",
       "    ⎝Vᵢ  + Vᵣ ⎠         ⎝Vᵢ  + Vᵣ ⎠  "
      ]
     },
     "metadata": {},
     "output_type": "display_data"
    },
    {
     "name": "stdout",
     "output_type": "stream",
     "text": [
      "dVi_dLr:\n",
      "\n"
     ]
    },
    {
     "data": {
      "image/png": "[encoded data removed]",
      "text/latex": [
       "$\\displaystyle \\frac{Q}{V_{i}^{2} + V_{r}^{2}} - \\frac{2 V_{i} \\left(P V_{r} + Q V_{i}\\right)}{\\left(V_{i}^{2} + V_{r}^{2}\\right)^{2}}$"
      ],
      "text/plain": [
       "    Q       2⋅Vᵢ⋅(P⋅Vᵣ + Q⋅Vᵢ)\n",
       "───────── - ──────────────────\n",
       "  2     2                 2   \n",
       "Vᵢ  + Vᵣ       ⎛  2     2⎞    \n",
       "               ⎝Vᵢ  + Vᵣ ⎠    "
      ]
     },
     "metadata": {},
     "output_type": "display_data"
    },
    {
     "name": "stdout",
     "output_type": "stream",
     "text": [
      "dVi_dLi:\n",
      "\n"
     ]
    },
    {
     "data": {
      "image/png": "[encoded data removed]",
      "text/latex": [
       "$\\displaystyle 0$"
      ],
      "text/plain": [
       "0"
      ]
     },
     "metadata": {},
     "output_type": "display_data"
    }
   ],
   "source": [
    "dVi = diff(lagrange, Vi)\n",
    "print(\"dVi:\\n\")\n",
    "disp.display(dVi)\n",
    "print(\"\\n\")\n",
    "\n",
    "dVi_dVr = diff(dVi, Vr)\n",
    "dVi_dVi = diff(dVi, Vi)\n",
    "dVi_dLr = diff(dVi, Lr)\n",
    "dVi_dLi = diff(dVi, Li)\n",
    "\n",
    "print(\"dVi_dVr:\\n\")\n",
    "disp.display(dVi_dVr)\n",
    "print(\"dVi_dVi:\\n\")\n",
    "disp.display(dVi_dVi)\n",
    "print(\"dVi_dLr:\\n\")\n",
    "disp.display(dVi_dLr)\n",
    "print(\"dVi_dLi:\\n\")\n",
    "disp.display(dVi_dLi)"
   ]
  }
 ],
 "metadata": {
  "interpreter": {
   "hash": "e7370f93d1d0cde622a1f8e1c04877d8463912d04d973331ad4851f04de6915a"
  },
  "kernelspec": {
   "display_name": "Python 3.8.10 64-bit",
   "language": "python",
   "name": "python3"
  },
  "language_info": {
   "codemirror_mode": {
    "name": "ipython",
    "version": 3
   },
   "file_extension": ".py",
   "mimetype": "text/x-python",
   "name": "python",
   "nbconvert_exporter": "python",
   "pygments_lexer": "ipython3",
   "version": "3.8.10"
  },
  "orig_nbformat": 4
 },
 "nbformat": 4,
 "nbformat_minor": 2
}
