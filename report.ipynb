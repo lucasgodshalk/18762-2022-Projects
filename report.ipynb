{
 "cells": [
  {
   "cell_type": "code",
   "execution_count": null,
   "metadata": {},
   "outputs": [],
   "source": [
    "from sympy import *\n",
    "import numpy as np\n",
    "import IPython.display as disp\n",
    "\n",
    "def lagragify_and_display_derivatives(variables, lambdas, eqns):\n",
    "    lagrange = np.dot(lambdas, eqns)\n",
    "    display_derivatives(lagrange, variables)\n",
    "\n",
    "def display_derivatives(lagrange, derivatives):\n",
    "    print(\"Lagrange:\")\n",
    "    disp.display(lagrange)\n",
    "\n",
    "    print(\"Derivatives:\")\n",
    "\n",
    "    for derivative in derivatives:\n",
    "        print(f'd{derivative}:')\n",
    "        disp.display(diff(lagrange, derivative))"
   ]
  },
  {
   "cell_type": "markdown",
   "metadata": {},
   "source": [
    "# Slack"
   ]
  },
  {
   "cell_type": "code",
   "execution_count": null,
   "metadata": {},
   "outputs": [],
   "source": [
    "[Vrset, Viset] = symbols(\"Vrset Viset\")\n",
    "\n",
    "variables = [Vr, Vi, Isr, Isi] = symbols(\"Vr Vi I_Sr I_Si\")\n",
    "\n",
    "lambdas = [Lr, Li, Lsr, Lsi] = symbols(\"lambda_Vr lambda_Vi lambda_Sr lambda_Si\")\n",
    "\n",
    "eqns = [\n",
    "    Isr,\n",
    "    Isi,\n",
    "    Vr - Vrset,\n",
    "    Vi - Viset,\n",
    "]\n",
    "\n",
    "lagragify_and_display_derivatives(variables, lambdas, eqns)\n"
   ]
  },
  {
   "cell_type": "markdown",
   "metadata": {},
   "source": [
    "# Infeasibility"
   ]
  },
  {
   "cell_type": "code",
   "execution_count": null,
   "metadata": {},
   "outputs": [],
   "source": [
    "variables = [Iir, Iii] = symbols(\"Iir Iii\")\n",
    "\n",
    "lambdas = [Lr, Li] = symbols(\"lambda_Vr lambda_Vi\")\n",
    "\n",
    "lagrange = Iir ** 2 + Iii ** 2 + Iir * Lr + Iii * Li\n",
    "\n",
    "display_derivatives(lagrange, variables)"
   ]
  },
  {
   "cell_type": "markdown",
   "metadata": {},
   "source": [
    "# Branch"
   ]
  },
  {
   "cell_type": "code",
   "execution_count": null,
   "metadata": {},
   "outputs": [],
   "source": [
    "G, B = symbols('G B')\n",
    "variables = [Vr_from, Vi_from, Vr_to, Vi_to] = symbols('V_from\\,r V_from\\,i V_to\\,r V_to\\,i')\n",
    "lambdas = [Lr_from, Li_from, Lr_to, Li_to] = symbols('lambda_from\\,r lambda_from\\,i lambda_to\\,r lambda_to\\,i')\n",
    "\n",
    "eqns = [\n",
    "    G * Vr_from - G * Vr_to + B * Vi_from - B * Vi_to,\n",
    "    G * Vi_from - G * Vi_to - B * Vr_from + B * Vr_to,\n",
    "    G * Vr_to - G * Vr_from + B * Vi_to - B * Vi_from,\n",
    "    G * Vi_to - G * Vi_from - B * Vr_to + B * Vr_from   \n",
    "]\n",
    "\n",
    "lagragify_and_display_derivatives(variables, lambdas, eqns)"
   ]
  },
  {
   "cell_type": "markdown",
   "metadata": {},
   "source": [
    "# Transformer\n",
    "\n",
    "(transformer losses are omitted since they utilize the branch stamps)"
   ]
  },
  {
   "cell_type": "code",
   "execution_count": null,
   "metadata": {},
   "outputs": [],
   "source": [
    "\n",
    "trcos, trsin = symbols('trcos trsin')\n",
    "variables = [Vr, Vi, Ir, Ii, V_pri_r, V_pri_i] = symbols('V_r V_i I_pri\\,r I_pri\\,i V_sec\\,r V_sec\\,i')\n",
    "lambdas = [Lr, Li, Lir, Lii, Lvr, Lvi] = symbols('lambda_r lambda_i lambda_pri\\,Ir lambda_pri\\,Ii lambda_sec\\,Vr lambda_sec\\,Vi')\n",
    "\n",
    "eqns = [\n",
    "    Ir,\n",
    "    Ii,\n",
    "    Vr - trcos * V_pri_r + trsin * V_pri_i,\n",
    "    Vi - trcos * V_pri_i - trsin * V_pri_r,\n",
    "    -trcos * Ir - trsin * Ii,\n",
    "    -trcos * Ii + trsin * Ir\n",
    "]\n",
    "\n",
    "lagragify_and_display_derivatives(variables, lambdas, eqns)\n"
   ]
  },
  {
   "cell_type": "markdown",
   "metadata": {},
   "source": [
    "# Shunt"
   ]
  },
  {
   "cell_type": "code",
   "execution_count": null,
   "metadata": {},
   "outputs": [],
   "source": [
    "G, B = symbols('G B')\n",
    "variables = [Vr, Vi] = symbols('Vr Vi')\n",
    "lambdas = [Lr, Li] = symbols('lambda_r lambda_i')\n",
    "\n",
    "eqns = [\n",
    "    G * Vr - B * Vi,\n",
    "    G * Vi + B * Vr\n",
    "]\n",
    "\n",
    "lagragify_and_display_derivatives(variables, lambdas, eqns)"
   ]
  },
  {
   "cell_type": "markdown",
   "metadata": {},
   "source": [
    "# Load"
   ]
  },
  {
   "cell_type": "code",
   "execution_count": null,
   "metadata": {},
   "outputs": [],
   "source": [
    "\n",
    "P, Q = symbols('self.P self.Q')\n",
    "variables = [Vr, Vi] = symbols('V_r V_i')\n",
    "lambdas = [Lr, Li] = symbols('lambda_r lambda_i')\n",
    "\n",
    "Ir = (P * Vr + Q * Vi) / (Vr ** 2 + Vi ** 2)\n",
    "Ii = (P * Vi - Q * Vr) / (Vr ** 2 + Vi ** 2)\n",
    "\n",
    "lagrange = Lr * Ir + Li * Ii\n",
    "\n",
    "print(\"Lagrange:\")\n",
    "disp.display(lagrange)"
   ]
  },
  {
   "cell_type": "markdown",
   "metadata": {},
   "source": [
    "### Real Portion"
   ]
  },
  {
   "cell_type": "code",
   "execution_count": null,
   "metadata": {},
   "outputs": [],
   "source": [
    "dVr = diff(lagrange, Vr)\n",
    "print(\"dVr:\\n\")\n",
    "disp.display(dVr)\n",
    "print(dVr)\n",
    "print(\"\\n\")\n",
    "\n",
    "for variable in variables + lambdas:\n",
    "    print(f'dVr_{variable}:\\n')\n",
    "    disp.display(diff(dVr, variable))\n",
    "    print(diff(dVr, variable))\n",
    "    print(\"\\n\")"
   ]
  },
  {
   "cell_type": "markdown",
   "metadata": {},
   "source": [
    "### Imaginary Portion"
   ]
  },
  {
   "cell_type": "code",
   "execution_count": null,
   "metadata": {},
   "outputs": [],
   "source": [
    "dVi = diff(lagrange, Vi)\n",
    "print(\"dVi:\\n\")\n",
    "disp.display(dVi)\n",
    "print(dVi)\n",
    "print(\"\\n\")\n",
    "\n",
    "for variable in variables + lambdas:\n",
    "    print(f'dVi_{variable}:\\n')\n",
    "    disp.display(diff(dVi, variable))\n",
    "    print(diff(dVi, variable))\n",
    "    print(\"\\n\")"
   ]
  },
  {
   "cell_type": "markdown",
   "metadata": {},
   "source": [
    "# Generator"
   ]
  },
  {
   "cell_type": "code",
   "execution_count": null,
   "metadata": {},
   "outputs": [],
   "source": [
    "P, Vset = symbols('self.P self.Vset')\n",
    "variables = [Vr, Vi, Q] = symbols('V_r V_i Q')\n",
    "lambdas = [Lr, Li, LQ] = symbols('lambda_r lambda_i lambda_Q')\n",
    "\n",
    "Ir = (P * Vr + Q * Vi) / (Vr ** 2 + Vi ** 2)\n",
    "Ii = (P * Vi - Q * Vr) / (Vr ** 2 + Vi ** 2)\n",
    "Q_k = Vset ** 2 - Vr ** 2 - Vi ** 2\n",
    "\n",
    "lagrange = Lr * Ir + Li * Ii + Q_k * LQ\n",
    "\n",
    "print(\"Lagrange:\")\n",
    "disp.display(lagrange)"
   ]
  },
  {
   "cell_type": "markdown",
   "metadata": {},
   "source": [
    "### Real Portion"
   ]
  },
  {
   "cell_type": "code",
   "execution_count": null,
   "metadata": {},
   "outputs": [],
   "source": [
    "dVr = diff(lagrange, Vr)\n",
    "print(\"dVr:\\n\")\n",
    "disp.display(dVr)\n",
    "print(dVr)\n",
    "print(\"\\n\")\n",
    "\n",
    "for variable in variables + lambdas:\n",
    "    print(f'dVr_{variable}:\\n')\n",
    "    disp.display(diff(dVr, variable))\n",
    "    print(diff(dVr, variable))\n",
    "    print(\"\\n\")"
   ]
  },
  {
   "cell_type": "markdown",
   "metadata": {},
   "source": [
    "### Imaginary Portion"
   ]
  },
  {
   "cell_type": "code",
   "execution_count": null,
   "metadata": {},
   "outputs": [],
   "source": [
    "dVi = diff(lagrange, Vi)\n",
    "print(\"dVi:\\n\")\n",
    "disp.display(dVi)\n",
    "print(dVi)\n",
    "print(\"\\n\")\n",
    "\n",
    "for variable in variables + lambdas:\n",
    "    print(f'dVi_{variable}:\\n')\n",
    "    disp.display(diff(dVi, variable))\n",
    "    print(diff(dVi, variable))\n",
    "    print(\"\\n\")"
   ]
  },
  {
   "cell_type": "markdown",
   "metadata": {},
   "source": [
    "### Q Portion"
   ]
  },
  {
   "cell_type": "code",
   "execution_count": null,
   "metadata": {},
   "outputs": [],
   "source": [
    "dQ = diff(lagrange, Q)\n",
    "print(\"dQ:\\n\")\n",
    "disp.display(dQ)\n",
    "print(dQ)\n",
    "print(\"\\n\")\n",
    "\n",
    "for variable in variables + lambdas:\n",
    "    print(f'dQ_{variable}:\\n')\n",
    "    disp.display(diff(dQ, variable))\n",
    "    print(diff(dQ, variable))\n",
    "    print(\"\\n\")"
   ]
  }
 ],
 "metadata": {
  "interpreter": {
   "hash": "e7370f93d1d0cde622a1f8e1c04877d8463912d04d973331ad4851f04de6915a"
  },
  "kernelspec": {
   "display_name": "Python 3.8.10 64-bit",
   "language": "python",
   "name": "python3"
  },
  "language_info": {
   "codemirror_mode": {
    "name": "ipython",
    "version": 3
   },
   "file_extension": ".py",
   "mimetype": "text/x-python",
   "name": "python",
   "nbconvert_exporter": "python",
   "pygments_lexer": "ipython3",
   "version": "3.8.10"
  },
  "orig_nbformat": 4
 },
 "nbformat": 4,
 "nbformat_minor": 2
}
