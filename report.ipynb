{
 "cells": [
  {
   "cell_type": "markdown",
   "metadata": {},
   "source": [
    "# Part 1\n",
    "\n",
    "### ECF Power Flow\n",
    "\n",
    "In order to understand ECF power flow analysis (or any other formulation), we first need to establish what equations the model uses to represent the physics of the electrical network and how those equations are then converted into a linear system in order to calculate the required information. The basic elements of the network include transmission lines, transformers, shunts, and simplified forms of generation, load, and a representation of 'slack' in the system, and power flow analysis must have a way to represent these elements. Each element is attached to one or two buses on the network, and enforces different constraints on the bus(es) it is connected to. For instance, a generator is described as a PV bus that supplies a fixed amount of real power and sets a voltage magnitude at the bus that it is attached to. Loads are represented as PQ buses that consume a fixed amount of real and reactive power. Finally, a slack bus is a reference point for the rest of the system that acts as a peusdo-infinite generator, attempting to set a fixed voltage magnitude and angle at its bus (and acts as an attempted correction of any power supply mismatch). \n",
    "\n",
    "In classic PQV formulation, we attempt to balance the real power ($P$) and reactive power ($Q$) at each bus in the system. Depending on the type of bus, we have a different set of 2 known and 2 unknown values: $P$, $Q$, $V$ (the voltage magnitude at the bus), and $\\theta$ (the voltage angle at the bus). These unknowns are what the PQV solves for with its linearized system, with each circuit element described using some combination of these 4 values in a set of equations, primarily summations of $P$ and $Q$.\n",
    "\n",
    "With ECF power flow analysis, instead of attempting to balance $P$ and $Q$ directly, we aim to \n",
    "\n",
    "### Implementation Discussion\n",
    "\n",
    "My implementation closely follows the supplied structure of the original codebase. The primary simulator is contained in the PowerFlow class, with independent models for each element of the power system. The only worthwhile note is that matrix construction is centralized in the MatrixBuilder class, which handles both sparse and dense construction. Test cases can be executed using `run_solver.py`.\n",
    " \n",
    "### Results & Computational Performance\n"
   ]
  }
 ],
 "metadata": {
  "authors": [
   {
    "name": "Lucas Godshalk"
   }
  ],
  "interpreter": {
   "hash": "e7370f93d1d0cde622a1f8e1c04877d8463912d04d973331ad4851f04de6915a"
  },
  "kernelspec": {
   "display_name": "Python 3.8.10 64-bit",
   "language": "python",
   "name": "python3"
  },
  "language_info": {
   "name": "python",
   "version": "3.8.10"
  },
  "orig_nbformat": 4,
  "title": "Circuit Simulation Project 2"
 },
 "nbformat": 4,
 "nbformat_minor": 2
}
