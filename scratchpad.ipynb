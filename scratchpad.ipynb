{
 "cells": [
  {
   "cell_type": "code",
   "execution_count": 23,
   "metadata": {},
   "outputs": [],
   "source": [
    "from classes.Settings import Settings\n",
    "from classes.Devices import Devices\n",
    "from classes.Nodes import Nodes\n",
    "from classes.Resistors import Resistors\n",
    "from classes.VoltageSources import VoltageSources\n",
    "from classes.CurrentSources import CurrentSources\n",
    "from classes.VoltageSources import CurrentSensor\n",
    "from classes.Inductors import Inductors\n",
    "from scripts.solve import solve"
   ]
  },
  {
   "cell_type": "code",
   "execution_count": 24,
   "metadata": {},
   "outputs": [
    {
     "name": "stdout",
     "output_type": "stream",
     "text": [
      "4.000050000000125\n",
      "1.0\n"
     ]
    }
   ],
   "source": [
    "devices = Devices([\n",
    "    Nodes(\"gnd\"),\n",
    "    Nodes(\"a\"),\n",
    "    Nodes(\"b\"),\n",
    "    Nodes(\"c\"),\n",
    "    CurrentSources(\"cs-gnd-a\", \"gnd\", \"a\", 1),\n",
    "    CurrentSensor(\"c\", \"gnd\", index=1),\n",
    "    Resistors(\"r-a-b\", \"a\", \"b\", 4),\n",
    "    #Resistors(\"r-a-b\", \"b\", \"c\", 4),\n",
    "    Inductors(\"i-b-c\", \"b\", \"c\", 10)\n",
    "])\n",
    "\n",
    "results = solve(devices, Settings(simulationTime=0.01))\n",
    "\n",
    "v_waveform_a = results.get_node_voltage(\"a\")\n",
    "v_waveform_b = results.get_voltage_source_current(\"currentsensor-1\")\n",
    "\n",
    "print(max(v_waveform_a))\n",
    "print(max(v_waveform_b))\n"
   ]
  },
  {
   "cell_type": "code",
   "execution_count": 25,
   "metadata": {},
   "outputs": [
    {
     "data": {
      "image/png": "[encoded data removed]",
      "text/plain": [
       "<Figure size 432x288 with 1 Axes>"
      ]
     },
     "metadata": {
      "needs_background": "light"
     },
     "output_type": "display_data"
    }
   ],
   "source": [
    "from matplotlib import pyplot as plt \n",
    "\n",
    "x = range(len(v_waveform_a))\n",
    "\n",
    "plt.plot(x, v_waveform_a)\n",
    "plt.plot(x, v_waveform_b)\n",
    "plt.show()"
   ]
  }
 ],
 "metadata": {
  "interpreter": {
   "hash": "e7370f93d1d0cde622a1f8e1c04877d8463912d04d973331ad4851f04de6915a"
  },
  "kernelspec": {
   "display_name": "Python 3.8.10 64-bit",
   "language": "python",
   "name": "python3"
  },
  "language_info": {
   "codemirror_mode": {
    "name": "ipython",
    "version": 3
   },
   "file_extension": ".py",
   "mimetype": "text/x-python",
   "name": "python",
   "nbconvert_exporter": "python",
   "pygments_lexer": "ipython3",
   "version": "3.8.10"
  },
  "orig_nbformat": 4
 },
 "nbformat": 4,
 "nbformat_minor": 2
}
